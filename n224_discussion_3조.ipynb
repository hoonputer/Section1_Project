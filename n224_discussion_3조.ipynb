{
  "nbformat": 4,
  "nbformat_minor": 0,
  "metadata": {
    "colab": {
      "provenance": [],
      "include_colab_link": true
    },
    "kernelspec": {
      "name": "python3",
      "display_name": "Python 3"
    },
    "language_info": {
      "name": "python"
    }
  },
  "cells": [
    {
      "cell_type": "markdown",
      "metadata": {
        "id": "view-in-github",
        "colab_type": "text"
      },
      "source": [
        "<a href=\"https://colab.research.google.com/github/hoonputer/Section1_Project/blob/main/n224_discussion_3%EC%A1%B0.ipynb\" target=\"_parent\"><img src=\"https://colab.research.google.com/assets/colab-badge.svg\" alt=\"Open In Colab\"/></a>"
      ]
    },
    {
      "cell_type": "markdown",
      "source": [
        "# **N224 Model Tuning**\n",
        "\n",
        "## 오늘의 목표\n",
        "- 하이퍼파라미터 튜닝으로 모델의 성능을 향상시킬 수 있습니다.\n",
        "- Grid/Random/Bayesian search CV를 사용할 수 있습니다.\n",
        "- Grid/Random/Bayesian search CV의 차이점과 어떤 경우에 어떤 방법을 사용하면 좋을지 설명할 수 있습니다.\n"
      ],
      "metadata": {
        "id": "Vf-x-YiRq3RB"
      }
    },
    {
      "cell_type": "markdown",
      "source": [
        "## **개념 Topic**\n",
        "> 오늘은 하이퍼파라미터 튜닝에 대해 배웠습니다.\n",
        "\n",
        "- grid search, randomized search, bayesian search의 차이점을 생각하면서 어떤 경우에 어떤 방법을 사용하면 좋을지 논의해 보세요.\n",
        "\n",
        "- **Discussion** 표의 `정리` 탭에 답변을 정리하여 적어 주세요. "
      ],
      "metadata": {
        "id": "A9uQQpShryq3"
      }
    },
    {
      "cell_type": "markdown",
      "source": [
        "Grid search :   랜덤사용이후, grid를 사용  \n",
        "Randomized search :   모델링시에, 하나 뽑은후 범위를 넓히고    \n",
        "Bayesian search :   grid 이후  , \n"
      ],
      "metadata": {
        "id": "lYqfuLYWkiU4"
      }
    },
    {
      "cell_type": "markdown",
      "source": [],
      "metadata": {
        "id": "lRoo3SIyGcIv"
      }
    },
    {
      "cell_type": "markdown",
      "source": [
        "### **코치 comment**\n",
        "- Grid: 시간적인 여유가 충분하고 경험적으로 해당 데이터에서 하이퍼파라미터가 어떠한 범위를 가질때 성능이 높다는 지식이 있을 경우. 정확한 탐색을 위해서 사용.\n",
        "- Random: 하이퍼파라미터 범위에 대한 감이 없어서 넓은 범위로 최적의 조합을 찾으려고 하는 경우. Grid 보다 효율적으로 탐색하고자 할 때 사용.\n",
        "- Bayesian: 한정된 자원 내에 Grid, Random보다 최적의 조합을 효율적으로 탐색하고자 하는 경우.\n",
        "- 언제나 무조건적으로 좋은 튜닝 방법은 없기 때문에 다양한 시도를 해보고 가장 좋은 조합을 선택하는 것이 좋습니다.\n",
        "\n",
        "scikit-learn에서 hyperopt를 구현한 라이브러리도 있습니다.\n",
        "[hpsklearn 가이드 참고문서](https://hyperopt.github.io/hyperopt-sklearn/)"
      ],
      "metadata": {
        "id": "UQx8NXEHsDrm"
      }
    },
    {
      "cell_type": "markdown",
      "source": [
        "## **코딩 Topic**\n"
      ],
      "metadata": {
        "id": "1bOW6MgMsRka"
      }
    },
    {
      "cell_type": "code",
      "source": [
        "!pip install category_encoders"
      ],
      "metadata": {
        "id": "WpCCWsuVu8GW",
        "colab": {
          "base_uri": "https://localhost:8080/"
        },
        "outputId": "4577f1cb-19f9-4eee-a6d1-0e04fffe2cf8"
      },
      "execution_count": null,
      "outputs": [
        {
          "output_type": "stream",
          "name": "stdout",
          "text": [
            "Looking in indexes: https://pypi.org/simple, https://us-python.pkg.dev/colab-wheels/public/simple/\n",
            "Collecting category_encoders\n",
            "  Downloading category_encoders-2.6.0-py2.py3-none-any.whl (81 kB)\n",
            "\u001b[2K     \u001b[90m━━━━━━━━━━━━━━━━━━━━━━━━━━━━━━━━━━━━━━━━\u001b[0m \u001b[32m81.2/81.2 KB\u001b[0m \u001b[31m3.9 MB/s\u001b[0m eta \u001b[36m0:00:00\u001b[0m\n",
            "\u001b[?25hRequirement already satisfied: statsmodels>=0.9.0 in /usr/local/lib/python3.9/dist-packages (from category_encoders) (0.13.5)\n",
            "Requirement already satisfied: scipy>=1.0.0 in /usr/local/lib/python3.9/dist-packages (from category_encoders) (1.10.1)\n",
            "Requirement already satisfied: scikit-learn>=0.20.0 in /usr/local/lib/python3.9/dist-packages (from category_encoders) (1.2.2)\n",
            "Requirement already satisfied: pandas>=1.0.5 in /usr/local/lib/python3.9/dist-packages (from category_encoders) (1.4.4)\n",
            "Requirement already satisfied: patsy>=0.5.1 in /usr/local/lib/python3.9/dist-packages (from category_encoders) (0.5.3)\n",
            "Requirement already satisfied: numpy>=1.14.0 in /usr/local/lib/python3.9/dist-packages (from category_encoders) (1.22.4)\n",
            "Requirement already satisfied: python-dateutil>=2.8.1 in /usr/local/lib/python3.9/dist-packages (from pandas>=1.0.5->category_encoders) (2.8.2)\n",
            "Requirement already satisfied: pytz>=2020.1 in /usr/local/lib/python3.9/dist-packages (from pandas>=1.0.5->category_encoders) (2022.7.1)\n",
            "Requirement already satisfied: six in /usr/local/lib/python3.9/dist-packages (from patsy>=0.5.1->category_encoders) (1.16.0)\n",
            "Requirement already satisfied: threadpoolctl>=2.0.0 in /usr/local/lib/python3.9/dist-packages (from scikit-learn>=0.20.0->category_encoders) (3.1.0)\n",
            "Requirement already satisfied: joblib>=1.1.1 in /usr/local/lib/python3.9/dist-packages (from scikit-learn>=0.20.0->category_encoders) (1.1.1)\n",
            "Requirement already satisfied: packaging>=21.3 in /usr/local/lib/python3.9/dist-packages (from statsmodels>=0.9.0->category_encoders) (23.0)\n",
            "Installing collected packages: category_encoders\n",
            "Successfully installed category_encoders-2.6.0\n"
          ]
        }
      ]
    },
    {
      "cell_type": "code",
      "source": [
        "!pip install xgboost==1.7.2"
      ],
      "metadata": {
        "id": "7Hv_yu57A_HN",
        "colab": {
          "base_uri": "https://localhost:8080/"
        },
        "outputId": "a84c18b8-53dc-47c9-a400-100edbe45221"
      },
      "execution_count": null,
      "outputs": [
        {
          "output_type": "stream",
          "name": "stdout",
          "text": [
            "Looking in indexes: https://pypi.org/simple, https://us-python.pkg.dev/colab-wheels/public/simple/\n",
            "Collecting xgboost==1.7.2\n",
            "  Downloading xgboost-1.7.2-py3-none-manylinux2014_x86_64.whl (193.6 MB)\n",
            "\u001b[2K     \u001b[90m━━━━━━━━━━━━━━━━━━━━━━━━━━━━━━━━━━━━━━━\u001b[0m \u001b[32m193.6/193.6 MB\u001b[0m \u001b[31m6.7 MB/s\u001b[0m eta \u001b[36m0:00:00\u001b[0m\n",
            "\u001b[?25hRequirement already satisfied: scipy in /usr/local/lib/python3.9/dist-packages (from xgboost==1.7.2) (1.10.1)\n",
            "Requirement already satisfied: numpy in /usr/local/lib/python3.9/dist-packages (from xgboost==1.7.2) (1.22.4)\n",
            "Installing collected packages: xgboost\n",
            "  Attempting uninstall: xgboost\n",
            "    Found existing installation: xgboost 1.7.4\n",
            "    Uninstalling xgboost-1.7.4:\n",
            "      Successfully uninstalled xgboost-1.7.4\n",
            "Successfully installed xgboost-1.7.2\n"
          ]
        }
      ]
    },
    {
      "cell_type": "markdown",
      "source": [
        "### **Part.1 : 데이터 준비**\n",
        "지난 노트에서 사용했던 [통신사 고객 이탈 여부 데이터](https://www.kaggle.com/datasets/blastchar/telco-customer-churn)를 사용합니다.\n",
        "\n",
        "> **Data Description**\n",
        "\n",
        "- customerID : Customer ID\n",
        "- gender : Whether the customer is a male or a female\n",
        "- SeniorCitizen : Whether the customer is a senior citizen or not (1, 0)\n",
        "- Partner : Whether the customer has a partner or not (Yes, No)\n",
        "- Dependents : Whether the customer has dependents or not (Yes, No)\n",
        "- tenure : Number of months the customer has stayed with the company\n",
        "- PhoneService : Whether the customer has a phone service or not (Yes, No)\n",
        "- MultipleLines : Whether the customer has multiple lines or not (Yes, No, No phone service)\n",
        "- InternetService : Customer’s internet service provider (DSL, Fiber optic, No)\n",
        "- OnlineSecurity : Whether the customer has online security or not (Yes, No, No internet service)\n",
        "- OnlineBackup : Whether the customer has online backup or not (Yes, No, No internet service)\n",
        "- DeviceProtection : Whether the customer has device protection or not (Yes, No, No internet service)\n",
        "- TechSupport : Whether the customer has tech support or not (Yes, No, No internet service)\n",
        "- StreamingTV : Whether the customer has streaming TV or not (Yes, No, No internet service)\n",
        "- StreamingMovies : Whether the customer has streaming movies or not (Yes, No, No internet service)\n",
        "- Contract : The contract term of the customer (Month-to-month, One year, Two year)\n",
        "- PaperlessBilling : Whether the customer has paperless billing or not (Yes, No)\n",
        "- PaymentMethod : The customer’s payment method (Electronic check, Mailed check, Bank transfer (automatic), Credit card (automatic))\n",
        "- MonthlyCharges : The amount charged to the customer monthly\n",
        "- TotalCharges : The total amount charged to the customer\n",
        "- Churn : Whether the customer churned or not (Yes or No)"
      ],
      "metadata": {
        "id": "9k8TtFj9sU6g"
      }
    },
    {
      "cell_type": "markdown",
      "source": [
        "#### **1-1. 데이터 불러오기 및 전처리**\n",
        "- 데이터셋을 불러오고 지난 노트에서 수행한 전처리 + 추가로 시도해보고 싶은 전처리를 수행해보세요."
      ],
      "metadata": {
        "id": "XaQmnaMpulN5"
      }
    },
    {
      "cell_type": "code",
      "execution_count": null,
      "metadata": {
        "colab": {
          "base_uri": "https://localhost:8080/",
          "height": 405
        },
        "id": "Pt7weSbmq0HU",
        "outputId": "d13e1f2a-a175-422e-ac8c-474f9628c32d"
      },
      "outputs": [
        {
          "output_type": "display_data",
          "data": {
            "text/plain": [
              "   customerID  gender  SeniorCitizen Partner Dependents  tenure PhoneService  \\\n",
              "0  7590-VHVEG  Female              0     Yes         No       1           No   \n",
              "1  5575-GNVDE    Male              0      No         No      34          Yes   \n",
              "2  3668-QPYBK    Male              0      No         No       2          Yes   \n",
              "3  7795-CFOCW    Male              0      No         No      45           No   \n",
              "4  9237-HQITU  Female              0      No         No       2          Yes   \n",
              "\n",
              "      MultipleLines InternetService OnlineSecurity  ... DeviceProtection  \\\n",
              "0  No phone service             DSL             No  ...               No   \n",
              "1                No             DSL            Yes  ...              Yes   \n",
              "2                No             DSL            Yes  ...               No   \n",
              "3  No phone service             DSL            Yes  ...              Yes   \n",
              "4                No     Fiber optic             No  ...               No   \n",
              "\n",
              "  TechSupport StreamingTV StreamingMovies        Contract PaperlessBilling  \\\n",
              "0          No          No              No  Month-to-month              Yes   \n",
              "1          No          No              No        One year               No   \n",
              "2          No          No              No  Month-to-month              Yes   \n",
              "3         Yes          No              No        One year               No   \n",
              "4          No          No              No  Month-to-month              Yes   \n",
              "\n",
              "               PaymentMethod MonthlyCharges  TotalCharges Churn  \n",
              "0           Electronic check          29.85         29.85    No  \n",
              "1               Mailed check          56.95        1889.5    No  \n",
              "2               Mailed check          53.85        108.15   Yes  \n",
              "3  Bank transfer (automatic)          42.30       1840.75    No  \n",
              "4           Electronic check          70.70        151.65   Yes  \n",
              "\n",
              "[5 rows x 21 columns]"
            ],
            "text/html": [
              "\n",
              "  <div id=\"df-17f39a62-9860-40c6-9cb4-400421ff2863\">\n",
              "    <div class=\"colab-df-container\">\n",
              "      <div>\n",
              "<style scoped>\n",
              "    .dataframe tbody tr th:only-of-type {\n",
              "        vertical-align: middle;\n",
              "    }\n",
              "\n",
              "    .dataframe tbody tr th {\n",
              "        vertical-align: top;\n",
              "    }\n",
              "\n",
              "    .dataframe thead th {\n",
              "        text-align: right;\n",
              "    }\n",
              "</style>\n",
              "<table border=\"1\" class=\"dataframe\">\n",
              "  <thead>\n",
              "    <tr style=\"text-align: right;\">\n",
              "      <th></th>\n",
              "      <th>customerID</th>\n",
              "      <th>gender</th>\n",
              "      <th>SeniorCitizen</th>\n",
              "      <th>Partner</th>\n",
              "      <th>Dependents</th>\n",
              "      <th>tenure</th>\n",
              "      <th>PhoneService</th>\n",
              "      <th>MultipleLines</th>\n",
              "      <th>InternetService</th>\n",
              "      <th>OnlineSecurity</th>\n",
              "      <th>...</th>\n",
              "      <th>DeviceProtection</th>\n",
              "      <th>TechSupport</th>\n",
              "      <th>StreamingTV</th>\n",
              "      <th>StreamingMovies</th>\n",
              "      <th>Contract</th>\n",
              "      <th>PaperlessBilling</th>\n",
              "      <th>PaymentMethod</th>\n",
              "      <th>MonthlyCharges</th>\n",
              "      <th>TotalCharges</th>\n",
              "      <th>Churn</th>\n",
              "    </tr>\n",
              "  </thead>\n",
              "  <tbody>\n",
              "    <tr>\n",
              "      <th>0</th>\n",
              "      <td>7590-VHVEG</td>\n",
              "      <td>Female</td>\n",
              "      <td>0</td>\n",
              "      <td>Yes</td>\n",
              "      <td>No</td>\n",
              "      <td>1</td>\n",
              "      <td>No</td>\n",
              "      <td>No phone service</td>\n",
              "      <td>DSL</td>\n",
              "      <td>No</td>\n",
              "      <td>...</td>\n",
              "      <td>No</td>\n",
              "      <td>No</td>\n",
              "      <td>No</td>\n",
              "      <td>No</td>\n",
              "      <td>Month-to-month</td>\n",
              "      <td>Yes</td>\n",
              "      <td>Electronic check</td>\n",
              "      <td>29.85</td>\n",
              "      <td>29.85</td>\n",
              "      <td>No</td>\n",
              "    </tr>\n",
              "    <tr>\n",
              "      <th>1</th>\n",
              "      <td>5575-GNVDE</td>\n",
              "      <td>Male</td>\n",
              "      <td>0</td>\n",
              "      <td>No</td>\n",
              "      <td>No</td>\n",
              "      <td>34</td>\n",
              "      <td>Yes</td>\n",
              "      <td>No</td>\n",
              "      <td>DSL</td>\n",
              "      <td>Yes</td>\n",
              "      <td>...</td>\n",
              "      <td>Yes</td>\n",
              "      <td>No</td>\n",
              "      <td>No</td>\n",
              "      <td>No</td>\n",
              "      <td>One year</td>\n",
              "      <td>No</td>\n",
              "      <td>Mailed check</td>\n",
              "      <td>56.95</td>\n",
              "      <td>1889.5</td>\n",
              "      <td>No</td>\n",
              "    </tr>\n",
              "    <tr>\n",
              "      <th>2</th>\n",
              "      <td>3668-QPYBK</td>\n",
              "      <td>Male</td>\n",
              "      <td>0</td>\n",
              "      <td>No</td>\n",
              "      <td>No</td>\n",
              "      <td>2</td>\n",
              "      <td>Yes</td>\n",
              "      <td>No</td>\n",
              "      <td>DSL</td>\n",
              "      <td>Yes</td>\n",
              "      <td>...</td>\n",
              "      <td>No</td>\n",
              "      <td>No</td>\n",
              "      <td>No</td>\n",
              "      <td>No</td>\n",
              "      <td>Month-to-month</td>\n",
              "      <td>Yes</td>\n",
              "      <td>Mailed check</td>\n",
              "      <td>53.85</td>\n",
              "      <td>108.15</td>\n",
              "      <td>Yes</td>\n",
              "    </tr>\n",
              "    <tr>\n",
              "      <th>3</th>\n",
              "      <td>7795-CFOCW</td>\n",
              "      <td>Male</td>\n",
              "      <td>0</td>\n",
              "      <td>No</td>\n",
              "      <td>No</td>\n",
              "      <td>45</td>\n",
              "      <td>No</td>\n",
              "      <td>No phone service</td>\n",
              "      <td>DSL</td>\n",
              "      <td>Yes</td>\n",
              "      <td>...</td>\n",
              "      <td>Yes</td>\n",
              "      <td>Yes</td>\n",
              "      <td>No</td>\n",
              "      <td>No</td>\n",
              "      <td>One year</td>\n",
              "      <td>No</td>\n",
              "      <td>Bank transfer (automatic)</td>\n",
              "      <td>42.30</td>\n",
              "      <td>1840.75</td>\n",
              "      <td>No</td>\n",
              "    </tr>\n",
              "    <tr>\n",
              "      <th>4</th>\n",
              "      <td>9237-HQITU</td>\n",
              "      <td>Female</td>\n",
              "      <td>0</td>\n",
              "      <td>No</td>\n",
              "      <td>No</td>\n",
              "      <td>2</td>\n",
              "      <td>Yes</td>\n",
              "      <td>No</td>\n",
              "      <td>Fiber optic</td>\n",
              "      <td>No</td>\n",
              "      <td>...</td>\n",
              "      <td>No</td>\n",
              "      <td>No</td>\n",
              "      <td>No</td>\n",
              "      <td>No</td>\n",
              "      <td>Month-to-month</td>\n",
              "      <td>Yes</td>\n",
              "      <td>Electronic check</td>\n",
              "      <td>70.70</td>\n",
              "      <td>151.65</td>\n",
              "      <td>Yes</td>\n",
              "    </tr>\n",
              "  </tbody>\n",
              "</table>\n",
              "<p>5 rows × 21 columns</p>\n",
              "</div>\n",
              "      <button class=\"colab-df-convert\" onclick=\"convertToInteractive('df-17f39a62-9860-40c6-9cb4-400421ff2863')\"\n",
              "              title=\"Convert this dataframe to an interactive table.\"\n",
              "              style=\"display:none;\">\n",
              "        \n",
              "  <svg xmlns=\"http://www.w3.org/2000/svg\" height=\"24px\"viewBox=\"0 0 24 24\"\n",
              "       width=\"24px\">\n",
              "    <path d=\"M0 0h24v24H0V0z\" fill=\"none\"/>\n",
              "    <path d=\"M18.56 5.44l.94 2.06.94-2.06 2.06-.94-2.06-.94-.94-2.06-.94 2.06-2.06.94zm-11 1L8.5 8.5l.94-2.06 2.06-.94-2.06-.94L8.5 2.5l-.94 2.06-2.06.94zm10 10l.94 2.06.94-2.06 2.06-.94-2.06-.94-.94-2.06-.94 2.06-2.06.94z\"/><path d=\"M17.41 7.96l-1.37-1.37c-.4-.4-.92-.59-1.43-.59-.52 0-1.04.2-1.43.59L10.3 9.45l-7.72 7.72c-.78.78-.78 2.05 0 2.83L4 21.41c.39.39.9.59 1.41.59.51 0 1.02-.2 1.41-.59l7.78-7.78 2.81-2.81c.8-.78.8-2.07 0-2.86zM5.41 20L4 18.59l7.72-7.72 1.47 1.35L5.41 20z\"/>\n",
              "  </svg>\n",
              "      </button>\n",
              "      \n",
              "  <style>\n",
              "    .colab-df-container {\n",
              "      display:flex;\n",
              "      flex-wrap:wrap;\n",
              "      gap: 12px;\n",
              "    }\n",
              "\n",
              "    .colab-df-convert {\n",
              "      background-color: #E8F0FE;\n",
              "      border: none;\n",
              "      border-radius: 50%;\n",
              "      cursor: pointer;\n",
              "      display: none;\n",
              "      fill: #1967D2;\n",
              "      height: 32px;\n",
              "      padding: 0 0 0 0;\n",
              "      width: 32px;\n",
              "    }\n",
              "\n",
              "    .colab-df-convert:hover {\n",
              "      background-color: #E2EBFA;\n",
              "      box-shadow: 0px 1px 2px rgba(60, 64, 67, 0.3), 0px 1px 3px 1px rgba(60, 64, 67, 0.15);\n",
              "      fill: #174EA6;\n",
              "    }\n",
              "\n",
              "    [theme=dark] .colab-df-convert {\n",
              "      background-color: #3B4455;\n",
              "      fill: #D2E3FC;\n",
              "    }\n",
              "\n",
              "    [theme=dark] .colab-df-convert:hover {\n",
              "      background-color: #434B5C;\n",
              "      box-shadow: 0px 1px 3px 1px rgba(0, 0, 0, 0.15);\n",
              "      filter: drop-shadow(0px 1px 2px rgba(0, 0, 0, 0.3));\n",
              "      fill: #FFFFFF;\n",
              "    }\n",
              "  </style>\n",
              "\n",
              "      <script>\n",
              "        const buttonEl =\n",
              "          document.querySelector('#df-17f39a62-9860-40c6-9cb4-400421ff2863 button.colab-df-convert');\n",
              "        buttonEl.style.display =\n",
              "          google.colab.kernel.accessAllowed ? 'block' : 'none';\n",
              "\n",
              "        async function convertToInteractive(key) {\n",
              "          const element = document.querySelector('#df-17f39a62-9860-40c6-9cb4-400421ff2863');\n",
              "          const dataTable =\n",
              "            await google.colab.kernel.invokeFunction('convertToInteractive',\n",
              "                                                     [key], {});\n",
              "          if (!dataTable) return;\n",
              "\n",
              "          const docLinkHtml = 'Like what you see? Visit the ' +\n",
              "            '<a target=\"_blank\" href=https://colab.research.google.com/notebooks/data_table.ipynb>data table notebook</a>'\n",
              "            + ' to learn more about interactive tables.';\n",
              "          element.innerHTML = '';\n",
              "          dataTable['output_type'] = 'display_data';\n",
              "          await google.colab.output.renderOutput(dataTable, element);\n",
              "          const docLink = document.createElement('div');\n",
              "          docLink.innerHTML = docLinkHtml;\n",
              "          element.appendChild(docLink);\n",
              "        }\n",
              "      </script>\n",
              "    </div>\n",
              "  </div>\n",
              "  "
            ]
          },
          "metadata": {}
        },
        {
          "output_type": "stream",
          "name": "stdout",
          "text": [
            "(7043, 21)\n"
          ]
        }
      ],
      "source": [
        "import pandas as pd\n",
        "df = pd.read_csv('https://ds-lecture-data.s3.ap-northeast-2.amazonaws.com/renewal/mldl/Customer_Churn.csv')\n",
        "display(df.head())\n",
        "print(df.shape)"
      ]
    },
    {
      "cell_type": "code",
      "source": [
        "import numpy as np\n",
        "\n",
        "# customerID 열 제거\n",
        "df.drop('customerID', axis=1, inplace=True)\n",
        "\n",
        "# 결측치 및 중복 샘플 제거\n",
        "df.drop_duplicates(inplace=True)\n",
        "df.dropna(inplace=True)\n",
        "\n",
        "# TotalCharges에서 공란인 데이터를 0으로 변환 후, 데이터 타입을 float로 변환\n",
        "df['TotalCharges'] = df['TotalCharges'].replace(' ', '0').astype(float)"
      ],
      "metadata": {
        "id": "meiYxgnqM-IE"
      },
      "execution_count": null,
      "outputs": []
    },
    {
      "cell_type": "markdown",
      "source": [
        "#### **1-2. 데이터셋 분리**\n",
        "- 특성과 타겟을 분리하세요.\n",
        "  - 타겟은 `Churn` 입니다.\n",
        "  - 타겟 데이터를 `No`는 0으로, `Yes`는 1로 변환하세요.\n",
        "- 데이터를 train/test set으로 분리하세요.\n",
        "  - 적절한 비율로 train/test \bset을 나누세요.\n",
        "  - `random_state`로 시드를 고정하세요.\n",
        "  - 타겟 클래스의 비율이 유지되도록 분리하세요."
      ],
      "metadata": {
        "id": "G8BpCHj_u0md"
      }
    },
    {
      "cell_type": "code",
      "source": [
        "from sklearn.model_selection import train_test_split\n",
        "\n",
        "# 타겟 지정, 타겟 데이터 (No == 0 , Yes == 1) 로 변경\n",
        "target = 'Churn'\n",
        "df[target] = df[target].replace(regex={'No' : 0, 'Yes' : 1})\n",
        "\n",
        "# 훈련, 검증, 테스트 셋 분리\n",
        "X = df.drop(columns=target)\n",
        "y = df[target]\n",
        "\n",
        "# 비율 = 8:2\n",
        "X_train, X_test, y_train, y_test = train_test_split(X,y, test_size= 0.2, stratify=y, random_state=42)\n",
        "X_train, X_val, y_train, y_val = train_test_split(X_train, y_train, test_size= 0.2, stratify=y_train, random_state=42)"
      ],
      "metadata": {
        "id": "eaZrl50gM_hK"
      },
      "execution_count": null,
      "outputs": []
    },
    {
      "cell_type": "markdown",
      "source": [
        "### **Part.2 : 모델 학습 및 예측**"
      ],
      "metadata": {
        "id": "mkGeiZ6dz9SM"
      }
    },
    {
      "cell_type": "markdown",
      "source": [
        "#### **2-1. 기준모델 설정**\n",
        "- 데이터가 불균형하기 때문에 F1-score를 평가지표로 사용합니다.\n",
        "\n",
        "  1) 타겟의 최빈값으로 기준 모델을 설정하면 F1-score가 0이 나오기 때문에 Decision Tree 모델을 기준모델로 사용합니다.\n",
        "    - 범주형 데이터는 적절한 encoding을 사용하여 변환하세요.\n",
        "    - 기준모델의 하이퍼파라미터를 자유롭게 설정하세요.\n",
        "\n",
        "  2) `cross_val_score` 함수를 사용해서 기준모델의 검증 성능을 확인해보세요. \n",
        "\n",
        "  3) 검증 성능을 확인한 후 모델을 학습시켜서 학습 데이터에서의 성능을 확인해보세요. \n",
        "    - 과적합이 발생했다면 특정 하이퍼파라미터를 직접 조정하여 해소해보세요.\n",
        "      - 하이퍼파라미터가 달라졌다면 다시 검증 성능을 확인한 후 학습 성능을 확인해야합니다.\n",
        "    - 과적합을 해소한 기준모델의 검증 F1-score는 어떻게 되나요?\n",
        "      - 이 검증 F1-score를 기준모델의 성능으로 사용합니다."
      ],
      "metadata": {
        "id": "3vMwYaPIz19D"
      }
    },
    {
      "cell_type": "code",
      "source": [
        "from category_encoders import OneHotEncoder, OrdinalEncoder\n",
        "from sklearn.impute import SimpleImputer\n",
        "from sklearn.pipeline import make_pipeline\n",
        "from sklearn.tree import DecisionTreeClassifier\n",
        "from sklearn.ensemble import RandomForestClassifier\n",
        "from sklearn.model_selection import cross_val_score\n",
        "from sklearn.metrics import classification_report, recall_score, precision_score, f1_score\n",
        "from xgboost import XGBClassifier"
      ],
      "metadata": {
        "id": "MSK3xF8YNBbh"
      },
      "execution_count": null,
      "outputs": []
    },
    {
      "cell_type": "code",
      "source": [
        "# 결정트리모델 파이프라인으로 생성\n",
        "pipe_dt = make_pipeline(\n",
        "    OrdinalEncoder(),\n",
        "    SimpleImputer(),\n",
        "    DecisionTreeClassifier(random_state=42, max_depth=4)\n",
        ")"
      ],
      "metadata": {
        "id": "DyQjkElqyRLc"
      },
      "execution_count": null,
      "outputs": []
    },
    {
      "cell_type": "markdown",
      "source": [
        "```\n",
        "max_depth: None = None  \n",
        "min_samples_split: int = 2   \n",
        "min_samples_leaf: int = 1   \n",
        "min_weight_fraction_leaf: float = 0   \n",
        "max_features: None = None   \n",
        "random_state: None = None   \n",
        "max_leaf_nodes: None = None   \n",
        "min_impurity_decrease: float = 0   \n",
        "class_weight: None = None,   \n",
        "ccp_alpha: float = 0\n",
        "```"
      ],
      "metadata": {
        "id": "U_wnJtoO8nSc"
      }
    },
    {
      "cell_type": "code",
      "source": [
        "# 결정트리 기준모델 지정\n",
        "base = pipe_dt.fit(X_train, y_train)\n",
        "\n",
        "# cross_val_score 함수 사용\n",
        "cva_results = cross_val_score(\n",
        "    base,\n",
        "    X_train,\n",
        "    y_train,\n",
        "    cv=5,\n",
        "    scoring='f1',\n",
        "    n_jobs=-1\n",
        ")\n",
        "\n",
        "print('F1-score for each fold : ', np.round(cva_results, 2))\n",
        "print('average F1 for model : ', np.mean(cva_results).round(2))\n",
        "print('std of result : ', np.std(cva_results).round(2))"
      ],
      "metadata": {
        "colab": {
          "base_uri": "https://localhost:8080/"
        },
        "id": "AwL2RrlG8NI9",
        "outputId": "2e275159-6cb4-4c76-adfe-87d3127037ca"
      },
      "execution_count": null,
      "outputs": [
        {
          "output_type": "stream",
          "name": "stdout",
          "text": [
            "F1-score for each fold :  [0.51 0.55 0.55 0.56 0.54]\n",
            "average F1 for model :  0.54\n",
            "std of result :  0.02\n"
          ]
        }
      ]
    },
    {
      "cell_type": "code",
      "source": [
        "print('train 정확도 : ', base.score(X_train, y_train))\n",
        "print('val 정확도 : ', base.score(X_val, y_val))"
      ],
      "metadata": {
        "colab": {
          "base_uri": "https://localhost:8080/"
        },
        "id": "iSMUo5SH7vwV",
        "outputId": "9b881b13-9b60-4c56-9ffa-c92743146fef"
      },
      "execution_count": null,
      "outputs": [
        {
          "output_type": "stream",
          "name": "stdout",
          "text": [
            "train 정확도 :  0.7960819234194123\n",
            "val 정확도 :  0.8069395017793595\n"
          ]
        }
      ]
    },
    {
      "cell_type": "markdown",
      "source": [
        "초기  \n",
        "train 정확도 :  0.9977738201246661  \n",
        "val 정확도 :  0.7188612099644128  \n",
        "F1-score for each fold :  [0.43 0.5  0.49 0.51 0.5 ]  \n",
        "average F1 for model :  0.49  \n",
        "std of result :  0.03  \n",
        "\n",
        "max_depth =4  \n",
        "F1-score for each fold :  [0.51 0.55 0.55 0.56 0.54]  \n",
        "average F1 for model :  0.54  \n",
        "std of result :  0.02  \n",
        "train 정확도 :  0.7960819234194123  \n",
        "val 정확도 :  0.8069395017793595  \n",
        "\n",
        "max_depth =6  \n",
        "F1-score for each fold :  [0.55 0.56 0.49 0.58 0.53]  \n",
        "average F1 for model :  0.54  \n",
        "std of result :  0.03  \n",
        "train 정확도 :  0.8130008904719501  \n",
        "val 정확도 :  0.800711743772242  "
      ],
      "metadata": {
        "id": "faQyA64zHrjh"
      }
    },
    {
      "cell_type": "markdown",
      "source": [
        "#### **2-2. 하이퍼파라미터 튜닝**\n",
        "- Grid, Random, Bayesian Search CV 중 2가지 방법을 사용해서 하이퍼파라미터 튜닝을 진행해보세요.\n",
        "- 추천 튜닝 방법\n",
        "  - 튜닝1) Grid/Random Search CV 중 택1\n",
        "  - 튜닝2) Bayesian Search CV\n",
        "\n"
      ],
      "metadata": {
        "id": "XHfINH87LUkD"
      }
    },
    {
      "cell_type": "markdown",
      "source": [
        "##### **GridSearch CV**\n",
        "- GridSearch CV를 활용해서 위의 기준모델보다 성능이 더 좋은 모델을 만들어보세요.\n",
        "  - 튜닝 시, RandomForest와 XGBoost 모델 중 하나를 사용하세요.\n",
        "    - 범주형 데이터는 적절한 encoding을 사용하여 변환하세요.\n",
        "    - `random_state`로 모델의 시드를 고정하세요.\n",
        "  - 튜닝 시, 하이퍼파라미터는 최소 2개, 최대 4개까지 사용하세요.\n",
        "    - 시간 관계상 하이퍼파라미터 튜닝의 범위가 너무 넓지 않게 설정하세요. (튜닝 시간 3분 이내)\n",
        "    - cv는 최대 3까지만 설정하세요.\n",
        "    - 하이퍼파라미터의 조합과 범위를 아래와 같이 설정한 이유는 무엇인가요?\n",
        "  - 최적의 하이퍼파라미터 조합을 가진 모델로 학습/검증 F1-score를 출력해보세요.\n",
        "    - 검증 F1-score: `그리드서치.best_score_`\n",
        "    - 최적의 모델: `그리드서치.best_estimator_`\n",
        "    - [scikit-learn Gridsearch 공식문서](https://scikit-learn.org/stable/modules/generated/sklearn.model_selection.GridSearchCV.html)\n",
        "    - 기준모델보다 성능이 좋은 모델과 하이퍼파라미터 조합을 발견했나요?\n",
        "      - score와 조합을 출력해보세요."
      ],
      "metadata": {
        "id": "EJAcVhXe6Hb4"
      }
    },
    {
      "cell_type": "code",
      "source": [
        "# 모델 생성\n",
        "\n",
        "pipe = make_pipeline(\n",
        "    OrdinalEncoder(),\n",
        "    SimpleImputer(strategy=\"median\"),\n",
        "    # RandomForestClassifier(),\n",
        "    # XGBClassifier(),\n",
        "    ),\n",
        ")\n",
        "print(pipe)"
      ],
      "metadata": {
        "id": "bRXGQyFF9KE7"
      },
      "execution_count": null,
      "outputs": []
    },
    {
      "cell_type": "code",
      "source": [
        "# 파라미터 지정\n",
        "params = {\n",
        "    \"xgbclassifier__max_depth\": [2, 4, 6],\n",
        "    \"xgbclassifier__min_child_weight\": [2, 4, 8],\n",
        "    \"xgbclassifier__colsample_bytree\": [0.6, 0.8, 1.0],\n",
        "}"
      ],
      "metadata": {
        "id": "-y8mF3K49EHh"
      },
      "execution_count": null,
      "outputs": []
    },
    {
      "cell_type": "code",
      "source": [
        "from sklearn.model_selection import GridSearchCV\n",
        "\n",
        "grid_search = GridSearchCV(pipe, param_grid=params, scoring=\"roc_auc\", cv=3, verbose=3)\n",
        "grid_search.fit(X_train, y_train)"
      ],
      "metadata": {
        "id": "qer59HzhNC1G"
      },
      "execution_count": null,
      "outputs": []
    },
    {
      "cell_type": "code",
      "source": [
        "print(\"최적 하이퍼파라미터: \", grid_search.best_params_)\n",
        "print(\"최적 AUC: \", grid_search.best_score_)"
      ],
      "metadata": {
        "id": "pLYyX3IvDYDq"
      },
      "execution_count": null,
      "outputs": []
    },
    {
      "cell_type": "markdown",
      "source": [
        "##### **RandomSearch CV**\n",
        "- RandomSearch CV를 활용해서 위의 기준모델보다 성능이 더 좋은 모델을 만들어보세요.\n",
        "  - 튜닝 시, RandomForest와 XGBoost 모델 중 하나를 사용하세요.\n",
        "    - 범주형 데이터는 적절한 encoding을 사용하여 변환하세요.\n",
        "    - `random_state`로 모델의 시드를 고정하세요.\n",
        "  - 튜닝 시, 하이퍼파라미터는 최소 2개, 최대 4개까지 사용하세요.\n",
        "    - 시간 관계상 하이퍼파라미터 튜닝의 범위가 너무 넓지 않게 설정하세요. (튜닝 시간 3분 이내)\n",
        "    - n_iter는 최대 10, cv는 최대 3까지만 설정하세요.\n",
        "    - `random_state`로 RandomSearch CV의 시드를 고정하세요.\n",
        "    - 하이퍼파라미터의 조합과 범위를 아래와 같이 설정한 이유는 무엇인가요?\n",
        "  - 최적의 하이퍼파라미터 조합을 가진 모델로 학습/검증 F1-score를 출력해보세요.\n",
        "    - 검증 F1-score: `랜덤서치.best_score_`\n",
        "    - 최적의 모델: `랜덤서치.best_estimator_`\n",
        "    - [RandomSearch 공식문서](https://scikit-learn.org/stable/modules/generated/sklearn.model_selection.RandomizedSearchCV.html)\n",
        "    - 기준모델보다 성능이 좋은 모델과 하이퍼파라미터 조합을 발견했나요?\n",
        "      - score와 조합을 출력해보세요."
      ],
      "metadata": {
        "id": "jzQyNrKD2YvQ"
      }
    },
    {
      "cell_type": "code",
      "source": [
        "# 모델 생성\n",
        "\n",
        "pipe = make_pipeline(\n",
        "    OrdinalEncoder(),\n",
        "    SimpleImputer(strategy=\"mean\"),\n",
        "    XGBClassifier(max_depth=2, xgbclassifier__colsample_bytree= 0.5909124836035503, min_child_weight=2),\n",
        "    )"
      ],
      "metadata": {
        "id": "xfadhUomIvfq"
      },
      "execution_count": null,
      "outputs": []
    },
    {
      "cell_type": "code",
      "source": [
        "from scipy.stats.distributions import uniform\n",
        "\n",
        "params = {\n",
        "    \"simpleimputer__strategy\": [\"median\", \"mean\"],\n",
        "    \"xgbclassifier__max_depth\": [2, 4, 6],\n",
        "    \"xgbclassifier__min_child_weight\": [2, 4, 8],\n",
        "    \"xgbclassifier__colsample_bytree\": uniform(\n",
        "        loc=0.5, scale=0.5\n",
        "    ),  # 0.5 ~ 1 사이의 uniform 분포로 범위를 지정해 줍니다.\n",
        "}"
      ],
      "metadata": {
        "id": "5FbpRttKNESr"
      },
      "execution_count": null,
      "outputs": []
    },
    {
      "cell_type": "code",
      "source": [
        "from sklearn.model_selection import RandomizedSearchCV\n",
        "\n",
        "randomized_search = RandomizedSearchCV(\n",
        "    pipe,\n",
        "    param_distributions=params,\n",
        "    scoring=\"f1\",     # 스코어링은 따로 외부에서 함수를 지정하여 사용. 한 모델에 2개는 안됨!\n",
        "    n_iter=10,\n",
        "    cv=3,\n",
        "    verbose=3,\n",
        "    random_state=42,\n",
        ")\n",
        "randomized_search.fit(X_train, y_train)"
      ],
      "metadata": {
        "id": "3biPtzqszElv"
      },
      "execution_count": null,
      "outputs": []
    },
    {
      "cell_type": "code",
      "source": [
        "print(\"최적 하이퍼파라미터: \", randomized_search.best_params_)\n",
        "print(\"최적 F1-scored: \", randomized_search.best_score_)"
      ],
      "metadata": {
        "colab": {
          "base_uri": "https://localhost:8080/"
        },
        "id": "e3XuGSeH9RMV",
        "outputId": "37454b9c-6e78-45fe-9b61-8f6ab8f129f4"
      },
      "execution_count": null,
      "outputs": [
        {
          "output_type": "stream",
          "name": "stdout",
          "text": [
            "최적 하이퍼파라미터:  {'simpleimputer__strategy': 'mean', 'xgbclassifier__colsample_bytree': 0.5909124836035503, 'xgbclassifier__max_depth': 2, 'xgbclassifier__min_child_weight': 2}\n",
            "최적 F1-scored:  0.578836521006049\n"
          ]
        }
      ]
    },
    {
      "cell_type": "code",
      "source": [],
      "metadata": {
        "id": "ACPcIHGWKFtL"
      },
      "execution_count": null,
      "outputs": []
    },
    {
      "cell_type": "code",
      "source": [
        "simpleimputer__strategy': 'mean', \n",
        "'xgbclassifier__colsample_bytree': 0.5909124836035503, \n",
        "'xgbclassifier__max_depth': 2, \n",
        "'xgbclassifier__min_child_weight': 2"
      ],
      "metadata": {
        "colab": {
          "base_uri": "https://localhost:8080/",
          "height": 138
        },
        "id": "ATEDvdMRJUg9",
        "outputId": "2e75e8b5-e489-44b3-f429-33fa6f791b7a"
      },
      "execution_count": null,
      "outputs": [
        {
          "output_type": "error",
          "ename": "SyntaxError",
          "evalue": "ignored",
          "traceback": [
            "\u001b[0;36m  File \u001b[0;32m\"<ipython-input-32-afb5b048e3b2>\"\u001b[0;36m, line \u001b[0;32m1\u001b[0m\n\u001b[0;31m    simpleimputer__strategy': 'mean',\u001b[0m\n\u001b[0m                           ^\u001b[0m\n\u001b[0;31mSyntaxError\u001b[0m\u001b[0;31m:\u001b[0m invalid syntax\n"
          ]
        }
      ]
    },
    {
      "cell_type": "markdown",
      "source": [
        "##### **BayesianSearch CV**\n",
        "- BayesianSearch CV를 활용해서 위의 기준모델보다 성능이 더 좋은 모델을 만들어보세요.\n",
        "  - 튜닝 시, RandomForest와 XGBoost 모델 중 하나를 사용하세요.\n",
        "    - 범주형 데이터는 적절한 encoding을 사용하여 변환하세요.\n",
        "    - `random_state`로 모델의 시드를 고정하세요.\n",
        "  - 튜닝 시, 하이퍼파라미터는 최소 2개, 최대 4개까지 사용하세요.\n",
        "    - 시간 관계상 하이퍼파라미터 튜닝의 범위가 너무 넓지 않게 설정하세요. (튜닝 시간 3분 이내)\n",
        "    - cross_val_score\n",
        "의 cv는 3 이하, fmin의 max_evals는 10 이하로 설정하세요.\n",
        "    - rstate로 시드를 고정하세요.\n",
        "      - `rstate = np.random.default_rng(...)`\n",
        "    - 하이퍼파라미터의 조합과 범위를 아래와 같이 설정한 이유는 무엇인가요?\n",
        "\n",
        "- BayesianSearch CV는 `best_estimator_` 메소드를 제공하고 있지 않아 최적의 조합을 찾았다면 해당 조합으로 모델을 재학습 시켜주어야합니다.\n",
        "  - 발견한 하이퍼파라미터 조합을 사용해서 모델을 재학습 시키세요.\n",
        "  - 재학습된 최종 모델의 학습/검증 F1-score를 출력해보세요.\n",
        "  - 검증 F1-score: `-베이지안서치.best_trial[\"result\"][\"loss\"]`\n",
        "  - 기준모델보다 성능이 좋은 모델과 하이퍼파라미터 조합을 발견했나요?\n",
        "      - score와 조합을 출력해보세요."
      ],
      "metadata": {
        "id": "JcY1FdNs8WxB"
      }
    },
    {
      "cell_type": "code",
      "source": [
        "from hyperopt import hp\n",
        "\n",
        "params = {\n",
        "    \"simpleimputer__strategy\": hp.choice(\"strategy\", [\"median\", \"mean\"]),\n",
        "    \"xgbclassifier__max_depth\": hp.quniform(\"max_depth\", 2, 10, 2),\n",
        "    \"xgbclassifier__min_child_weight\": hp.quniform(\"min_child_weight\", 2, 10, 2),\n",
        "    \"xgbclassifier__colsample_bytree\": hp.uniform(\"colsample_bytree\", 0.5, 1.0),\n",
        "}"
      ],
      "metadata": {
        "id": "M7ClEIxtNF9O"
      },
      "execution_count": null,
      "outputs": []
    },
    {
      "cell_type": "code",
      "source": [
        "from hyperopt import fmin, tpe, Trials, STATUS_OK\n",
        "from sklearn.model_selection import cross_val_score\n",
        "\n",
        "def get_pipe(params):\n",
        "    params[\"xgbclassifier__max_depth\"] = int(\n",
        "        params[\"xgbclassifier__max_depth\"]\n",
        "    )  # max_depth는 정수형으로 변환해 줍니다.\n",
        "    pipe = make_pipeline(\n",
        "        OrdinalEncoder(),\n",
        "        SimpleImputer(strategy=\"median\"),\n",
        "        XGBClassifier(\n",
        "            objective=\"binary:logistic\",\n",
        "            eval_metric=\"error\",\n",
        "            n_estimators=200,\n",
        "            random_state=42,\n",
        "            n_jobs=-1,\n",
        "            learning_rate=0.1,\n",
        "            use_label_encoder=False,\n",
        "        ),\n",
        "    )\n",
        "    pipe = pipe.set_params(**params)\n",
        "    return pipe\n",
        "\n",
        "\n",
        "def fit_and_eval(params):\n",
        "    pipe = get_pipe(params)  # 주어진 params로 파이프라인을 만들어 가져옵니다.\n",
        "    score = cross_val_score(pipe, X_train, y_train, cv=3, scoring=\"roc_auc\")\n",
        "    avg_cv_score = np.mean(score)\n",
        "    # roc_auc는 클수록 좋은 metric이므로, hyperopt.fmin이 roc_auc를 최대화하도록 하기 위해 -부호를 붙여 반환합니다.\n",
        "    return {\"loss\": -avg_cv_score, \"status\": STATUS_OK}\n",
        "\n",
        "\n",
        "trials = (\n",
        "    Trials()\n",
        ")  # Trials() 객체를 fmin에 함께 넣어 실행하면, 실행되는 매 fit의 학습 정보 및 학습 결과가 해당 객체에 모두 저장됩니다.\n",
        "\n",
        "best_params = fmin(\n",
        "    fn=fit_and_eval, trials=trials, space=params, algo=tpe.suggest, max_evals=10,\n",
        "    rstate = np.random.default_rng(2023)\n",
        ")  # max_evals 횟수만큼 하이퍼파라미터 조합을 탐색합니다."
      ],
      "metadata": {
        "id": "dIZWp0JYzImy"
      },
      "execution_count": null,
      "outputs": []
    },
    {
      "cell_type": "code",
      "source": [
        "print(\"최적 하이퍼파라미터: \", trials.best_trial[\"misc\"][\"vals\"])\n",
        "print(\"최적 AUC: \", -trials.best_trial[\"result\"][\"loss\"])"
      ],
      "metadata": {
        "id": "Cj7ne2zg9bLk"
      },
      "execution_count": null,
      "outputs": []
    },
    {
      "cell_type": "markdown",
      "source": [
        "### **Part.3 : 모델 결과 해석**"
      ],
      "metadata": {
        "id": "LiXLaHqsGxw_"
      }
    },
    {
      "cell_type": "markdown",
      "source": [
        "#### **3-1. 최종 모델 선정 및 일반화 성능 평가**\n",
        "- 사용한 튜닝 방법 중 가장 성능이 좋은 튜닝 방법은 무엇인가요?\n",
        "  - 이 방법이 **항상** 다른 튜닝 방법에 비해 성능이 좋을까요?\n",
        "  - 항상 좋다면 왜 좋은지, 항상 좋진 않다면 왜 항상은 아닌지 논의해보세요.\n",
        "- 가장 성능이 좋은 튜닝 방법을 사용한 모델을 최종 모델로 선정하세요.\n",
        "  - 최종 모델의 일반화 성능(test set에서의 F1-score)을 확인해보세요.\n",
        "  - 과적합이 발생하진 않았나요?\n",
        "    - 과적합이 발생했다면 어떻게 해소할 수 있을지 논의해보세요."
      ],
      "metadata": {
        "id": "hn8VqznsG8lQ"
      }
    },
    {
      "cell_type": "code",
      "source": [],
      "metadata": {
        "id": "mNoMc2yMNHYy"
      },
      "execution_count": null,
      "outputs": []
    },
    {
      "cell_type": "code",
      "source": [
        "y_pred = .predict(X_test)\n",
        "print(classification_report(y_val, y_pred))"
      ],
      "metadata": {
        "id": "pyVtvYu2-YV9"
      },
      "execution_count": null,
      "outputs": []
    },
    {
      "cell_type": "markdown",
      "source": [
        "### **Conclusion**\n",
        "> 오늘 Topic을 수행한 결과를 바탕으로, 다음 사항에 대해 답해 주세요.\n",
        "\n",
        "1. 어떤 튜닝 방법들을 사용했나요?\n",
        "2. 튜닝에 사용한 하이퍼파라미터 조합과 범위의 설정 이유는 무엇인가요?\n",
        "3. 가장 좋은 튜닝 방법과 해당 모델의 학습/검증/테스트 성능은 어떻게 되나요?\n",
        "4. 일반화 성능(test set 성능)을 올리기 위해서 어떤 방법을 사용해볼 수 있을까요?\n",
        "\n",
        "- **Discussion** 표의 `정리` 탭에 답변을 정리하여 적어 주세요. "
      ],
      "metadata": {
        "id": "9JQ1ynJePSRF"
      }
    },
    {
      "cell_type": "markdown",
      "source": [
        "1. \n",
        "2. \n",
        "3. \n",
        "4. \n",
        "\n"
      ],
      "metadata": {
        "id": "Svq98vqVtqUE"
      }
    },
    {
      "cell_type": "markdown",
      "source": [
        "## **심화 Topic(Optional)**\n",
        "- 위의 **2-2. 하이퍼파라미터 튜닝** 파트에서 사용하지 않은 나머지 튜닝 방법을 주어진 가이드에 따라 수행해보세요."
      ],
      "metadata": {
        "id": "QErhUWZgu7Kb"
      }
    }
  ]
}