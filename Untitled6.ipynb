{
  "nbformat": 4,
  "nbformat_minor": 0,
  "metadata": {
    "colab": {
      "provenance": []
    },
    "kernelspec": {
      "name": "python3",
      "display_name": "Python 3"
    },
    "language_info": {
      "name": "python"
    }
  },
  "cells": [
    {
      "cell_type": "code",
      "execution_count": 250,
      "metadata": {
        "id": "H0RUKEkrp-Et"
      },
      "outputs": [],
      "source": []
    },
    {
      "cell_type": "markdown",
      "source": [
        "**게임 시장 데이터 분석**"
      ],
      "metadata": {
        "id": "ockvdZi9qFWb"
      }
    },
    {
      "cell_type": "code",
      "source": [
        "import numpy as np\n",
        "import pandas as pd\n",
        "import matplotlib.pyplot as plt\n",
        "import seaborn as sns"
      ],
      "metadata": {
        "id": "3CDPbFcAqKGm"
      },
      "execution_count": 251,
      "outputs": []
    },
    {
      "cell_type": "code",
      "source": [
        "# df로 데이터프레임 불러오기\n",
        "df = pd.read_csv('vgames2.csv')"
      ],
      "metadata": {
        "id": "xFZtNX0xqMpR"
      },
      "execution_count": 252,
      "outputs": []
    },
    {
      "cell_type": "code",
      "source": [
        "df.info()"
      ],
      "metadata": {
        "colab": {
          "base_uri": "https://localhost:8080/"
        },
        "id": "4xkK2iERqOFr",
        "outputId": "dcc563ad-7071-4b89-e4c9-531102079123"
      },
      "execution_count": 253,
      "outputs": [
        {
          "output_type": "stream",
          "name": "stdout",
          "text": [
            "<class 'pandas.core.frame.DataFrame'>\n",
            "RangeIndex: 16598 entries, 0 to 16597\n",
            "Data columns (total 10 columns):\n",
            " #   Column       Non-Null Count  Dtype  \n",
            "---  ------       --------------  -----  \n",
            " 0   Unnamed: 0   16598 non-null  int64  \n",
            " 1   Name         16598 non-null  object \n",
            " 2   Platform     16598 non-null  object \n",
            " 3   Year         16327 non-null  float64\n",
            " 4   Genre        16548 non-null  object \n",
            " 5   Publisher    16540 non-null  object \n",
            " 6   NA_Sales     16598 non-null  object \n",
            " 7   EU_Sales     16598 non-null  object \n",
            " 8   JP_Sales     16598 non-null  object \n",
            " 9   Other_Sales  16598 non-null  object \n",
            "dtypes: float64(1), int64(1), object(8)\n",
            "memory usage: 1.3+ MB\n"
          ]
        }
      ]
    },
    {
      "cell_type": "code",
      "source": [
        "# df 결측치 확인\n",
        "df.isnull().sum()"
      ],
      "metadata": {
        "colab": {
          "base_uri": "https://localhost:8080/"
        },
        "id": "34a4SCB6qRYZ",
        "outputId": "036135ed-20d1-4ec0-c266-f8c0d6725ab9"
      },
      "execution_count": 254,
      "outputs": [
        {
          "output_type": "execute_result",
          "data": {
            "text/plain": [
              "Unnamed: 0       0\n",
              "Name             0\n",
              "Platform         0\n",
              "Year           271\n",
              "Genre           50\n",
              "Publisher       58\n",
              "NA_Sales         0\n",
              "EU_Sales         0\n",
              "JP_Sales         0\n",
              "Other_Sales      0\n",
              "dtype: int64"
            ]
          },
          "metadata": {},
          "execution_count": 254
        }
      ]
    },
    {
      "cell_type": "code",
      "source": [
        "# 원본 데이터 보존을 위해 copy 생성\n",
        "df_copy = df"
      ],
      "metadata": {
        "id": "3qRdk2SUqXFz"
      },
      "execution_count": 255,
      "outputs": []
    },
    {
      "cell_type": "code",
      "source": [
        "#결측치 제거\n",
        "df_copy = df_copy.dropna(axis=0)"
      ],
      "metadata": {
        "id": "6kbljOltqVgi"
      },
      "execution_count": 256,
      "outputs": []
    },
    {
      "cell_type": "code",
      "source": [
        "#무의미한 값 삭제\n",
        "df_copy = df_copy.drop('Unnamed: 0', axis = 1)"
      ],
      "metadata": {
        "id": "oQuE4j80GR7w"
      },
      "execution_count": 257,
      "outputs": []
    },
    {
      "cell_type": "code",
      "source": [
        "#결측치 제거 확인\n",
        "df_copy.isnull().sum()"
      ],
      "metadata": {
        "colab": {
          "base_uri": "https://localhost:8080/"
        },
        "id": "FV0Qh5IwqcE-",
        "outputId": "36d780c2-2c7c-48db-db52-b24eb033d095"
      },
      "execution_count": 258,
      "outputs": [
        {
          "output_type": "execute_result",
          "data": {
            "text/plain": [
              "Name           0\n",
              "Platform       0\n",
              "Year           0\n",
              "Genre          0\n",
              "Publisher      0\n",
              "NA_Sales       0\n",
              "EU_Sales       0\n",
              "JP_Sales       0\n",
              "Other_Sales    0\n",
              "dtype: int64"
            ]
          },
          "metadata": {},
          "execution_count": 258
        }
      ]
    },
    {
      "cell_type": "code",
      "source": [
        "# df 중복값 확인\n",
        "df_copy.duplicated().sum()"
      ],
      "metadata": {
        "colab": {
          "base_uri": "https://localhost:8080/"
        },
        "id": "sieCYZ72t6ye",
        "outputId": "98d7d899-9831-4f29-842c-5f67fd5eb8d2"
      },
      "execution_count": 259,
      "outputs": [
        {
          "output_type": "execute_result",
          "data": {
            "text/plain": [
              "0"
            ]
          },
          "metadata": {},
          "execution_count": 259
        }
      ]
    },
    {
      "cell_type": "code",
      "source": [
        "#df_copy의 형태 보기\n",
        "df_copy.info()"
      ],
      "metadata": {
        "colab": {
          "base_uri": "https://localhost:8080/"
        },
        "id": "sKO1J74oqgbZ",
        "outputId": "97cecbe3-cfdd-44e8-a023-207b872e82e5"
      },
      "execution_count": 260,
      "outputs": [
        {
          "output_type": "stream",
          "name": "stdout",
          "text": [
            "<class 'pandas.core.frame.DataFrame'>\n",
            "Int64Index: 16241 entries, 0 to 16597\n",
            "Data columns (total 9 columns):\n",
            " #   Column       Non-Null Count  Dtype  \n",
            "---  ------       --------------  -----  \n",
            " 0   Name         16241 non-null  object \n",
            " 1   Platform     16241 non-null  object \n",
            " 2   Year         16241 non-null  float64\n",
            " 3   Genre        16241 non-null  object \n",
            " 4   Publisher    16241 non-null  object \n",
            " 5   NA_Sales     16241 non-null  object \n",
            " 6   EU_Sales     16241 non-null  object \n",
            " 7   JP_Sales     16241 non-null  object \n",
            " 8   Other_Sales  16241 non-null  object \n",
            "dtypes: float64(1), object(8)\n",
            "memory usage: 1.2+ MB\n"
          ]
        }
      ]
    },
    {
      "cell_type": "code",
      "source": [
        "# 위의 형태에서 Sales의 값들이 object인 것을 확인할 수 있음.\n",
        "# 추후 계산을 위해 이상치를 찾아 제거하고 float형태로 데이터 타입 변경.\n",
        "# 데이터 타입을 변경해주기 위해 Sales 값에 들어있는 K는 1000을 나눠주고 M값은 공백으로 replace해줌.\n",
        "# 데이터는 M 단위이기 때문에 위와 같은 방식으로 진행."
      ],
      "metadata": {
        "id": "yNu1A9Gsqp0X"
      },
      "execution_count": 261,
      "outputs": []
    },
    {
      "cell_type": "code",
      "source": [
        "def k_m_fix(df):\n",
        "  df_ = df.copy()\n",
        "  for i in df_.columns:\n",
        "    df_[i] = df_[i].map(lambda x: str(float(x.replace(\"K\", \"\")) / 1000) if \"K\" in x else x) # str로 다시 감싸주지 않으니 dtype이 object인 column에서 float은 nan으로 인식되는 듯\n",
        "    df_[i] = df_[i].str.replace(\"M\",\"\")\n",
        "  return df_.astype(float)\n",
        "\n",
        "k_m_fix(df_copy.loc[:,\"NA_Sales\":\"Other_Sales\"])\n",
        "     "
      ],
      "metadata": {
        "colab": {
          "base_uri": "https://localhost:8080/",
          "height": 424
        },
        "id": "u-LgnmhZ_tj3",
        "outputId": "bb19bbd8-024a-40c7-e445-bc68cadbfdf5"
      },
      "execution_count": 262,
      "outputs": [
        {
          "output_type": "execute_result",
          "data": {
            "text/plain": [
              "       NA_Sales  EU_Sales  JP_Sales  Other_Sales\n",
              "0          0.04      0.00      0.00         0.00\n",
              "1          0.17      0.00      0.00         0.01\n",
              "2          0.00      0.00      0.02         0.00\n",
              "3          0.04      0.00      0.00         0.00\n",
              "4          0.12      0.09      0.00         0.04\n",
              "...         ...       ...       ...          ...\n",
              "16593      0.15      0.04      0.00         0.01\n",
              "16594      0.01      0.00      0.00         0.00\n",
              "16595      0.44      0.19      0.03         0.13\n",
              "16596      0.05      0.05      0.25         0.03\n",
              "16597      0.00      0.00      0.16         0.01\n",
              "\n",
              "[16241 rows x 4 columns]"
            ],
            "text/html": [
              "\n",
              "  <div id=\"df-45cc87c4-5d40-4203-804d-87589abecd0f\">\n",
              "    <div class=\"colab-df-container\">\n",
              "      <div>\n",
              "<style scoped>\n",
              "    .dataframe tbody tr th:only-of-type {\n",
              "        vertical-align: middle;\n",
              "    }\n",
              "\n",
              "    .dataframe tbody tr th {\n",
              "        vertical-align: top;\n",
              "    }\n",
              "\n",
              "    .dataframe thead th {\n",
              "        text-align: right;\n",
              "    }\n",
              "</style>\n",
              "<table border=\"1\" class=\"dataframe\">\n",
              "  <thead>\n",
              "    <tr style=\"text-align: right;\">\n",
              "      <th></th>\n",
              "      <th>NA_Sales</th>\n",
              "      <th>EU_Sales</th>\n",
              "      <th>JP_Sales</th>\n",
              "      <th>Other_Sales</th>\n",
              "    </tr>\n",
              "  </thead>\n",
              "  <tbody>\n",
              "    <tr>\n",
              "      <th>0</th>\n",
              "      <td>0.04</td>\n",
              "      <td>0.00</td>\n",
              "      <td>0.00</td>\n",
              "      <td>0.00</td>\n",
              "    </tr>\n",
              "    <tr>\n",
              "      <th>1</th>\n",
              "      <td>0.17</td>\n",
              "      <td>0.00</td>\n",
              "      <td>0.00</td>\n",
              "      <td>0.01</td>\n",
              "    </tr>\n",
              "    <tr>\n",
              "      <th>2</th>\n",
              "      <td>0.00</td>\n",
              "      <td>0.00</td>\n",
              "      <td>0.02</td>\n",
              "      <td>0.00</td>\n",
              "    </tr>\n",
              "    <tr>\n",
              "      <th>3</th>\n",
              "      <td>0.04</td>\n",
              "      <td>0.00</td>\n",
              "      <td>0.00</td>\n",
              "      <td>0.00</td>\n",
              "    </tr>\n",
              "    <tr>\n",
              "      <th>4</th>\n",
              "      <td>0.12</td>\n",
              "      <td>0.09</td>\n",
              "      <td>0.00</td>\n",
              "      <td>0.04</td>\n",
              "    </tr>\n",
              "    <tr>\n",
              "      <th>...</th>\n",
              "      <td>...</td>\n",
              "      <td>...</td>\n",
              "      <td>...</td>\n",
              "      <td>...</td>\n",
              "    </tr>\n",
              "    <tr>\n",
              "      <th>16593</th>\n",
              "      <td>0.15</td>\n",
              "      <td>0.04</td>\n",
              "      <td>0.00</td>\n",
              "      <td>0.01</td>\n",
              "    </tr>\n",
              "    <tr>\n",
              "      <th>16594</th>\n",
              "      <td>0.01</td>\n",
              "      <td>0.00</td>\n",
              "      <td>0.00</td>\n",
              "      <td>0.00</td>\n",
              "    </tr>\n",
              "    <tr>\n",
              "      <th>16595</th>\n",
              "      <td>0.44</td>\n",
              "      <td>0.19</td>\n",
              "      <td>0.03</td>\n",
              "      <td>0.13</td>\n",
              "    </tr>\n",
              "    <tr>\n",
              "      <th>16596</th>\n",
              "      <td>0.05</td>\n",
              "      <td>0.05</td>\n",
              "      <td>0.25</td>\n",
              "      <td>0.03</td>\n",
              "    </tr>\n",
              "    <tr>\n",
              "      <th>16597</th>\n",
              "      <td>0.00</td>\n",
              "      <td>0.00</td>\n",
              "      <td>0.16</td>\n",
              "      <td>0.01</td>\n",
              "    </tr>\n",
              "  </tbody>\n",
              "</table>\n",
              "<p>16241 rows × 4 columns</p>\n",
              "</div>\n",
              "      <button class=\"colab-df-convert\" onclick=\"convertToInteractive('df-45cc87c4-5d40-4203-804d-87589abecd0f')\"\n",
              "              title=\"Convert this dataframe to an interactive table.\"\n",
              "              style=\"display:none;\">\n",
              "        \n",
              "  <svg xmlns=\"http://www.w3.org/2000/svg\" height=\"24px\"viewBox=\"0 0 24 24\"\n",
              "       width=\"24px\">\n",
              "    <path d=\"M0 0h24v24H0V0z\" fill=\"none\"/>\n",
              "    <path d=\"M18.56 5.44l.94 2.06.94-2.06 2.06-.94-2.06-.94-.94-2.06-.94 2.06-2.06.94zm-11 1L8.5 8.5l.94-2.06 2.06-.94-2.06-.94L8.5 2.5l-.94 2.06-2.06.94zm10 10l.94 2.06.94-2.06 2.06-.94-2.06-.94-.94-2.06-.94 2.06-2.06.94z\"/><path d=\"M17.41 7.96l-1.37-1.37c-.4-.4-.92-.59-1.43-.59-.52 0-1.04.2-1.43.59L10.3 9.45l-7.72 7.72c-.78.78-.78 2.05 0 2.83L4 21.41c.39.39.9.59 1.41.59.51 0 1.02-.2 1.41-.59l7.78-7.78 2.81-2.81c.8-.78.8-2.07 0-2.86zM5.41 20L4 18.59l7.72-7.72 1.47 1.35L5.41 20z\"/>\n",
              "  </svg>\n",
              "      </button>\n",
              "      \n",
              "  <style>\n",
              "    .colab-df-container {\n",
              "      display:flex;\n",
              "      flex-wrap:wrap;\n",
              "      gap: 12px;\n",
              "    }\n",
              "\n",
              "    .colab-df-convert {\n",
              "      background-color: #E8F0FE;\n",
              "      border: none;\n",
              "      border-radius: 50%;\n",
              "      cursor: pointer;\n",
              "      display: none;\n",
              "      fill: #1967D2;\n",
              "      height: 32px;\n",
              "      padding: 0 0 0 0;\n",
              "      width: 32px;\n",
              "    }\n",
              "\n",
              "    .colab-df-convert:hover {\n",
              "      background-color: #E2EBFA;\n",
              "      box-shadow: 0px 1px 2px rgba(60, 64, 67, 0.3), 0px 1px 3px 1px rgba(60, 64, 67, 0.15);\n",
              "      fill: #174EA6;\n",
              "    }\n",
              "\n",
              "    [theme=dark] .colab-df-convert {\n",
              "      background-color: #3B4455;\n",
              "      fill: #D2E3FC;\n",
              "    }\n",
              "\n",
              "    [theme=dark] .colab-df-convert:hover {\n",
              "      background-color: #434B5C;\n",
              "      box-shadow: 0px 1px 3px 1px rgba(0, 0, 0, 0.15);\n",
              "      filter: drop-shadow(0px 1px 2px rgba(0, 0, 0, 0.3));\n",
              "      fill: #FFFFFF;\n",
              "    }\n",
              "  </style>\n",
              "\n",
              "      <script>\n",
              "        const buttonEl =\n",
              "          document.querySelector('#df-45cc87c4-5d40-4203-804d-87589abecd0f button.colab-df-convert');\n",
              "        buttonEl.style.display =\n",
              "          google.colab.kernel.accessAllowed ? 'block' : 'none';\n",
              "\n",
              "        async function convertToInteractive(key) {\n",
              "          const element = document.querySelector('#df-45cc87c4-5d40-4203-804d-87589abecd0f');\n",
              "          const dataTable =\n",
              "            await google.colab.kernel.invokeFunction('convertToInteractive',\n",
              "                                                     [key], {});\n",
              "          if (!dataTable) return;\n",
              "\n",
              "          const docLinkHtml = 'Like what you see? Visit the ' +\n",
              "            '<a target=\"_blank\" href=https://colab.research.google.com/notebooks/data_table.ipynb>data table notebook</a>'\n",
              "            + ' to learn more about interactive tables.';\n",
              "          element.innerHTML = '';\n",
              "          dataTable['output_type'] = 'display_data';\n",
              "          await google.colab.output.renderOutput(dataTable, element);\n",
              "          const docLink = document.createElement('div');\n",
              "          docLink.innerHTML = docLinkHtml;\n",
              "          element.appendChild(docLink);\n",
              "        }\n",
              "      </script>\n",
              "    </div>\n",
              "  </div>\n",
              "  "
            ]
          },
          "metadata": {},
          "execution_count": 262
        }
      ]
    },
    {
      "cell_type": "code",
      "source": [
        "df_copy.loc[:,\"NA_Sales\":\"Other_Sales\"] = k_m_fix(df_copy.loc[:,\"NA_Sales\":\"Other_Sales\"])\n",
        "df_copy.info()"
      ],
      "metadata": {
        "colab": {
          "base_uri": "https://localhost:8080/"
        },
        "id": "fCENU79rHHZM",
        "outputId": "3922cd00-8522-4b7b-a871-0ca0f87419e6"
      },
      "execution_count": 263,
      "outputs": [
        {
          "output_type": "stream",
          "name": "stdout",
          "text": [
            "<class 'pandas.core.frame.DataFrame'>\n",
            "Int64Index: 16241 entries, 0 to 16597\n",
            "Data columns (total 9 columns):\n",
            " #   Column       Non-Null Count  Dtype  \n",
            "---  ------       --------------  -----  \n",
            " 0   Name         16241 non-null  object \n",
            " 1   Platform     16241 non-null  object \n",
            " 2   Year         16241 non-null  float64\n",
            " 3   Genre        16241 non-null  object \n",
            " 4   Publisher    16241 non-null  object \n",
            " 5   NA_Sales     16241 non-null  float64\n",
            " 6   EU_Sales     16241 non-null  float64\n",
            " 7   JP_Sales     16241 non-null  float64\n",
            " 8   Other_Sales  16241 non-null  float64\n",
            "dtypes: float64(5), object(4)\n",
            "memory usage: 1.2+ MB\n"
          ]
        }
      ]
    },
    {
      "cell_type": "code",
      "source": [
        "df_copy['NA_Sales'].astype(float)"
      ],
      "metadata": {
        "colab": {
          "base_uri": "https://localhost:8080/"
        },
        "id": "BPgyapay_8aD",
        "outputId": "0424e5ec-1340-43ab-b326-785b831de2f3"
      },
      "execution_count": 264,
      "outputs": [
        {
          "output_type": "execute_result",
          "data": {
            "text/plain": [
              "0        0.04\n",
              "1        0.17\n",
              "2        0.00\n",
              "3        0.04\n",
              "4        0.12\n",
              "         ... \n",
              "16593    0.15\n",
              "16594    0.01\n",
              "16595    0.44\n",
              "16596    0.05\n",
              "16597    0.00\n",
              "Name: NA_Sales, Length: 16241, dtype: float64"
            ]
          },
          "metadata": {},
          "execution_count": 264
        }
      ]
    },
    {
      "cell_type": "code",
      "source": [
        "df_copy['EU_Sales'].astype(float)"
      ],
      "metadata": {
        "colab": {
          "base_uri": "https://localhost:8080/"
        },
        "id": "avyilj_3AY_u",
        "outputId": "7df74865-76f9-4c2a-952c-702669abf370"
      },
      "execution_count": 265,
      "outputs": [
        {
          "output_type": "execute_result",
          "data": {
            "text/plain": [
              "0        0.00\n",
              "1        0.00\n",
              "2        0.00\n",
              "3        0.00\n",
              "4        0.09\n",
              "         ... \n",
              "16593    0.04\n",
              "16594    0.00\n",
              "16595    0.19\n",
              "16596    0.05\n",
              "16597    0.00\n",
              "Name: EU_Sales, Length: 16241, dtype: float64"
            ]
          },
          "metadata": {},
          "execution_count": 265
        }
      ]
    },
    {
      "cell_type": "code",
      "source": [
        "df_copy['JP_Sales'].astype(float)"
      ],
      "metadata": {
        "colab": {
          "base_uri": "https://localhost:8080/"
        },
        "id": "FROFE5NLAa_m",
        "outputId": "8027373c-c2a5-46c2-c921-355ad352dd33"
      },
      "execution_count": 266,
      "outputs": [
        {
          "output_type": "execute_result",
          "data": {
            "text/plain": [
              "0        0.00\n",
              "1        0.00\n",
              "2        0.02\n",
              "3        0.00\n",
              "4        0.00\n",
              "         ... \n",
              "16593    0.00\n",
              "16594    0.00\n",
              "16595    0.03\n",
              "16596    0.25\n",
              "16597    0.16\n",
              "Name: JP_Sales, Length: 16241, dtype: float64"
            ]
          },
          "metadata": {},
          "execution_count": 266
        }
      ]
    },
    {
      "cell_type": "code",
      "source": [
        "df_copy['Other_Sales'].astype(float)"
      ],
      "metadata": {
        "colab": {
          "base_uri": "https://localhost:8080/"
        },
        "id": "jwv1d1xjAc0l",
        "outputId": "19233fb6-c381-495b-b0c6-d315c4a1d0aa"
      },
      "execution_count": 267,
      "outputs": [
        {
          "output_type": "execute_result",
          "data": {
            "text/plain": [
              "0        0.00\n",
              "1        0.01\n",
              "2        0.00\n",
              "3        0.00\n",
              "4        0.04\n",
              "         ... \n",
              "16593    0.01\n",
              "16594    0.00\n",
              "16595    0.13\n",
              "16596    0.03\n",
              "16597    0.01\n",
              "Name: Other_Sales, Length: 16241, dtype: float64"
            ]
          },
          "metadata": {},
          "execution_count": 267
        }
      ]
    },
    {
      "cell_type": "markdown",
      "source": [
        "<여기서부터는 각 장르별 합산을 계산하는 구간입니다>"
      ],
      "metadata": {
        "id": "eB68NVSMPCIB"
      }
    },
    {
      "cell_type": "code",
      "source": [
        "# 장르 데이터의 종류를 살펴보고 이를 통해 각 장르별 지역 합산을 구한다.\n",
        "df_copy['Genre'].unique()"
      ],
      "metadata": {
        "colab": {
          "base_uri": "https://localhost:8080/"
        },
        "id": "ppyz6YkTEb9-",
        "outputId": "986e380e-ae8d-419f-d280-d2e583b488fe"
      },
      "execution_count": 268,
      "outputs": [
        {
          "output_type": "execute_result",
          "data": {
            "text/plain": [
              "array(['Action', 'Adventure', 'Misc', 'Platform', 'Sports', 'Simulation',\n",
              "       'Racing', 'Role-Playing', 'Puzzle', 'Strategy', 'Fighting',\n",
              "       'Shooter'], dtype=object)"
            ]
          },
          "metadata": {},
          "execution_count": 268
        }
      ]
    },
    {
      "cell_type": "code",
      "source": [
        "genre_action = df_copy[df_copy['Genre']=='Action']"
      ],
      "metadata": {
        "id": "t7vfekjQDraQ"
      },
      "execution_count": 269,
      "outputs": []
    },
    {
      "cell_type": "code",
      "source": [
        "action_NA = genre_action['NA_Sales'].sum()\n",
        "action_EU = genre_action['EU_Sales'].sum()\n",
        "action_JP = genre_action['JP_Sales'].sum()\n",
        "action_OT = genre_action['Other_Sales'].sum()"
      ],
      "metadata": {
        "id": "ixGuieCKEDaq"
      },
      "execution_count": 270,
      "outputs": []
    },
    {
      "cell_type": "code",
      "source": [
        "genre_adventure = df_copy[df_copy['Genre']=='Adventure']"
      ],
      "metadata": {
        "id": "wn0qjiXlMrKm"
      },
      "execution_count": 272,
      "outputs": []
    },
    {
      "cell_type": "code",
      "source": [
        "adventure_NA = genre_adventure['NA_Sales'].sum()\n",
        "adventure_EU = genre_adventure['EU_Sales'].sum()\n",
        "adventure_JP = genre_adventure['JP_Sales'].sum()\n",
        "adventure_OT = genre_adventure['Other_Sales'].sum()"
      ],
      "metadata": {
        "id": "Qvnc8pBOMbkd"
      },
      "execution_count": 273,
      "outputs": []
    },
    {
      "cell_type": "code",
      "source": [
        "genre_misc = df_copy[df_copy['Genre']=='Misc']"
      ],
      "metadata": {
        "id": "UfqR5bA2NT9P"
      },
      "execution_count": 280,
      "outputs": []
    },
    {
      "cell_type": "code",
      "source": [
        "misc_NA = genre_misc['NA_Sales'].sum()\n",
        "misc_EU = genre_misc['EU_Sales'].sum()\n",
        "misc_JP = genre_misc['JP_Sales'].sum()\n",
        "misc_OT = genre_misc['Other_Sales'].sum()"
      ],
      "metadata": {
        "id": "xaXqIyKPEE8f"
      },
      "execution_count": 281,
      "outputs": []
    },
    {
      "cell_type": "code",
      "source": [
        "genre_platform = df_copy[df_copy['Genre']=='Platform']"
      ],
      "metadata": {
        "id": "AxhsKjrkOI9N"
      },
      "execution_count": 284,
      "outputs": []
    },
    {
      "cell_type": "code",
      "source": [
        "platform_NA = genre_platform['NA_Sales'].sum()\n",
        "platform_EU = genre_platform['EU_Sales'].sum()\n",
        "platform_JP = genre_platform['JP_Sales'].sum()\n",
        "platform_OT = genre_platform['Other_Sales'].sum()"
      ],
      "metadata": {
        "id": "tEV1d06JON__"
      },
      "execution_count": 285,
      "outputs": []
    },
    {
      "cell_type": "code",
      "source": [
        "genre_sports = df_copy[df_copy['Genre']=='Sports']"
      ],
      "metadata": {
        "id": "u0iXV620PKMD"
      },
      "execution_count": 290,
      "outputs": []
    },
    {
      "cell_type": "code",
      "source": [
        "sports_NA = genre_sports['NA_Sales'].sum()\n",
        "sports_EU = genre_sports['EU_Sales'].sum()\n",
        "sports_JP = genre_sports['JP_Sales'].sum()\n",
        "sports_OT = genre_sports['Other_Sales'].sum()"
      ],
      "metadata": {
        "id": "K_vt-P5APPe4"
      },
      "execution_count": 291,
      "outputs": []
    },
    {
      "cell_type": "code",
      "source": [
        "genre_simulation = df_copy[df_copy['Genre']=='Simulation']"
      ],
      "metadata": {
        "id": "otqtXLJRPKKF"
      },
      "execution_count": 303,
      "outputs": []
    },
    {
      "cell_type": "code",
      "source": [
        "simulation_NA = genre_simulation['NA_Sales'].sum()\n",
        "simulation_EU = genre_simulation['EU_Sales'].sum()\n",
        "simulation_JP = genre_simulation['JP_Sales'].sum()\n",
        "simulation_OT = genre_simulation['Other_Sales'].sum()"
      ],
      "metadata": {
        "id": "e_tub4x7PKHy"
      },
      "execution_count": 304,
      "outputs": []
    },
    {
      "cell_type": "code",
      "source": [
        "genre_racing = df_copy[df_copy['Genre']=='Racing']"
      ],
      "metadata": {
        "id": "n1i6IB0xRVz_"
      },
      "execution_count": 308,
      "outputs": []
    },
    {
      "cell_type": "code",
      "source": [
        "racing_NA = genre_racing['NA_Sales'].sum()\n",
        "racing_EU = genre_racing['EU_Sales'].sum()\n",
        "racing_JP = genre_racing['JP_Sales'].sum()\n",
        "racing_OT = genre_racing['Other_Sales'].sum()"
      ],
      "metadata": {
        "id": "dicH62igRVx8"
      },
      "execution_count": 309,
      "outputs": []
    },
    {
      "cell_type": "code",
      "source": [
        "genre_role_playing = df_copy[df_copy['Genre']=='Role-Playing']"
      ],
      "metadata": {
        "id": "4aXsikuAPKFj"
      },
      "execution_count": 311,
      "outputs": []
    },
    {
      "cell_type": "code",
      "source": [
        "role_playing_NA = genre_role_playing['NA_Sales'].sum()\n",
        "role_playing_EU = genre_role_playing['EU_Sales'].sum()\n",
        "role_playing_JP = genre_role_playing['JP_Sales'].sum()\n",
        "role_playing_OT = genre_role_playing['Other_Sales'].sum()"
      ],
      "metadata": {
        "id": "k-2wLeWCSDjQ"
      },
      "execution_count": 312,
      "outputs": []
    },
    {
      "cell_type": "code",
      "source": [
        "genre_puzzle = df_copy[df_copy['Genre']=='Puzzle']"
      ],
      "metadata": {
        "id": "PzbW0td2SDhP"
      },
      "execution_count": 314,
      "outputs": []
    },
    {
      "cell_type": "code",
      "source": [
        "puzzle_NA = genre_puzzle['NA_Sales'].sum()\n",
        "puzzle_EU = genre_puzzle['EU_Sales'].sum()\n",
        "puzzle_JP = genre_puzzle['JP_Sales'].sum()\n",
        "puzzle_OT = genre_puzzle['Other_Sales'].sum()"
      ],
      "metadata": {
        "id": "GbjUrBCOSj5u"
      },
      "execution_count": 316,
      "outputs": []
    },
    {
      "cell_type": "code",
      "source": [],
      "metadata": {
        "id": "w1ygqex2Sd-G"
      },
      "execution_count": null,
      "outputs": []
    },
    {
      "cell_type": "code",
      "source": [],
      "metadata": {
        "id": "jfkZ2WemSd8D"
      },
      "execution_count": null,
      "outputs": []
    },
    {
      "cell_type": "code",
      "source": [],
      "metadata": {
        "id": "LAFwwJKDSd5z"
      },
      "execution_count": null,
      "outputs": []
    },
    {
      "cell_type": "code",
      "source": [],
      "metadata": {
        "id": "ffQsukMSSDfD"
      },
      "execution_count": null,
      "outputs": []
    },
    {
      "cell_type": "code",
      "source": [],
      "metadata": {
        "id": "9D4MzcLJO_sh"
      },
      "execution_count": null,
      "outputs": []
    },
    {
      "cell_type": "markdown",
      "source": [
        "각 데이터를 시각화 했습니다."
      ],
      "metadata": {
        "id": "KRkwpBk0Pjef"
      }
    },
    {
      "cell_type": "code",
      "source": [
        "#시각화 데이터 모음\n",
        "\n",
        "# Action Genre 시각화 데이터\n",
        "x = np.arange(4)\n",
        "sales = ['NA_Sales', 'EU_Sales', 'JP_Sales', 'Other_Sales']\n",
        "values = [action_NA, action_EU, action_JP, action_OT]\n",
        "\n",
        "plt.title('Sum of Sales: Action')\n",
        "bar = plt.bar(x, values, color = ['red', 'orange', 'skyblue', 'green'])\n",
        "plt.xticks(x, sales)\n",
        "\n",
        "for rect in bar:\n",
        "    height = rect.get_height()\n",
        "    plt.text(rect.get_x() + rect.get_width()/2.0, height, '%.1f' % height, ha='center', va='bottom', size = 10)\n",
        "\n",
        "plt.show()\n",
        "\n",
        "\n",
        "# Adventure Genre 시각화 데이터\n",
        "x = np.arange(4)\n",
        "sales = ['NA_Sales', 'EU_Sales', 'JP_Sales', 'Other_Sales']\n",
        "values = [adventure_NA, adventure_EU, adventure_JP, adventure_OT]\n",
        "\n",
        "plt.title('Sum of Sales: Adventure')\n",
        "bar = plt.bar(x, values, color = ['red', 'orange', 'skyblue', 'green'])\n",
        "plt.xticks(x, sales)\n",
        "\n",
        "for rect in bar:\n",
        "    height = rect.get_height()\n",
        "    plt.text(rect.get_x() + rect.get_width()/2.0, height, '%.1f' % height, ha='center', va='bottom', size = 10)\n",
        "\n",
        "plt.show()\n",
        "\n",
        "\n",
        "# Platform Genre 시각화 데이터\n",
        "x = np.arange(4)\n",
        "sales = ['NA_Sales', 'EU_Sales', 'JP_Sales', 'Other_Sales']\n",
        "values = [platform_NA, platform_EU, platform_JP, platform_OT]\n",
        "\n",
        "plt.title('Sum of Sales: Platform')\n",
        "bar = plt.bar(x, values, color = ['red', 'orange', 'skyblue', 'green'])\n",
        "plt.xticks(x, sales)\n",
        "\n",
        "for rect in bar:\n",
        "    height = rect.get_height()\n",
        "    plt.text(rect.get_x() + rect.get_width()/2.0, height, '%.1f' % height, ha='center', va='bottom', size = 10)\n",
        "\n",
        "plt.show()\n",
        "\n",
        "\n",
        "# Sports Genre 시각화 데이터\n",
        "x = np.arange(4)\n",
        "sales = ['NA_Sales', 'EU_Sales', 'JP_Sales', 'Other_Sales']\n",
        "values = [sports_NA, sports_EU, sports_JP, sports_OT]\n",
        "\n",
        "plt.title('Sum of Sales: Sports')\n",
        "bar = plt.bar(x, values, color = ['red', 'orange', 'skyblue', 'green'])\n",
        "plt.xticks(x, sales)\n",
        "\n",
        "for rect in bar:\n",
        "    height = rect.get_height()\n",
        "    plt.text(rect.get_x() + rect.get_width()/2.0, height, '%.1f' % height, ha='center', va='bottom', size = 10)\n",
        "\n",
        "plt.show()\n",
        "\n",
        "\n",
        "# Simulation Genre 시각화 데이터\n",
        "x = np.arange(4)\n",
        "sales = ['NA_Sales', 'EU_Sales', 'JP_Sales', 'Other_Sales']\n",
        "values = [simulation_NA, simulation_EU, simulation_JP, simulation_OT]\n",
        "\n",
        "plt.title('Sum of Sales: Simulation')\n",
        "bar = plt.bar(x, values, color = ['red', 'orange', 'skyblue', 'green'])\n",
        "plt.xticks(x, sales)\n",
        "\n",
        "for rect in bar:\n",
        "    height = rect.get_height()\n",
        "    plt.text(rect.get_x() + rect.get_width()/2.0, height, '%.1f' % height, ha='center', va='bottom', size = 10)\n",
        "\n",
        "plt.show()\n",
        "\n",
        "\n",
        "# Racing Genre 시각화 데이터\n",
        "x = np.arange(4)\n",
        "sales = ['NA_Sales', 'EU_Sales', 'JP_Sales', 'Other_Sales']\n",
        "values = [racing_NA, racing_EU, racing_JP, racing_OT]\n",
        "\n",
        "plt.title('Sum of Sales: Racing')\n",
        "bar = plt.bar(x, values, color = ['red', 'orange', 'skyblue', 'green'])\n",
        "plt.xticks(x, sales)\n",
        "\n",
        "for rect in bar:\n",
        "    height = rect.get_height()\n",
        "    plt.text(rect.get_x() + rect.get_width()/2.0, height, '%.1f' % height, ha='center', va='bottom', size = 10)\n",
        "\n",
        "plt.show()\n",
        "\n",
        "\n",
        "# Role-Playing Genre 시각화 데이터\n",
        "x = np.arange(4)\n",
        "sales = ['NA_Sales', 'EU_Sales', 'JP_Sales', 'Other_Sales']\n",
        "values = [role_playing_NA, role_playing_EU, role_playing_JP, role_playing_OT]\n",
        "\n",
        "plt.title('Sum of Sales: Role-Playing')\n",
        "bar = plt.bar(x, values, color = ['red', 'orange', 'skyblue', 'green'])\n",
        "plt.xticks(x, sales)\n",
        "\n",
        "for rect in bar:\n",
        "    height = rect.get_height()\n",
        "    plt.text(rect.get_x() + rect.get_width()/2.0, height, '%.1f' % height, ha='center', va='bottom', size = 10)\n",
        "\n",
        "plt.show()\n",
        "\n",
        "\n",
        "# Puzzle Genre 시각화 데이터\n",
        "x = np.arange(4)\n",
        "sales = ['NA_Sales', 'EU_Sales', 'JP_Sales', 'Other_Sales']\n",
        "values = [puzzle_NA, puzzle_EU, puzzle_JP, puzzle_OT]\n",
        "\n",
        "plt.title('Sum of Sales: Puzzle')\n",
        "bar = plt.bar(x, values, color = ['red', 'orange', 'skyblue', 'green'])\n",
        "plt.xticks(x, sales)\n",
        "\n",
        "for rect in bar:\n",
        "    height = rect.get_height()\n",
        "    plt.text(rect.get_x() + rect.get_width()/2.0, height, '%.1f' % height, ha='center', va='bottom', size = 10)\n",
        "\n",
        "plt.show()"
      ],
      "metadata": {
        "id": "c7SCf-pCqcAe",
        "colab": {
          "base_uri": "https://localhost:8080/",
          "height": 1000
        },
        "outputId": "d96597c3-025d-46a9-9ffe-0c4ae4c7baa3"
      },
      "execution_count": 317,
      "outputs": [
        {
          "output_type": "display_data",
          "data": {
            "text/plain": [
              "<Figure size 432x288 with 1 Axes>"
            ],
            "image/png": "[encoded data removed]"
          },
          "metadata": {
            "needs_background": "light"
          }
        },
        {
          "output_type": "display_data",
          "data": {
            "text/plain": [
              "<Figure size 432x288 with 1 Axes>"
            ],
            "image/png": "[encoded data removed]"
          },
          "metadata": {
            "needs_background": "light"
          }
        },
        {
          "output_type": "display_data",
          "data": {
            "text/plain": [
              "<Figure size 432x288 with 1 Axes>"
            ],
            "image/png": "[encoded data removed]"
          },
          "metadata": {
            "needs_background": "light"
          }
        },
        {
          "output_type": "display_data",
          "data": {
            "text/plain": [
              "<Figure size 432x288 with 1 Axes>"
            ],
            "image/png": "[encoded data removed]"
          },
          "metadata": {
            "needs_background": "light"
          }
        },
        {
          "output_type": "display_data",
          "data": {
            "text/plain": [
              "<Figure size 432x288 with 1 Axes>"
            ],
            "image/png": "[encoded data removed]"
          },
          "metadata": {
            "needs_background": "light"
          }
        },
        {
          "output_type": "display_data",
          "data": {
            "text/plain": [
              "<Figure size 432x288 with 1 Axes>"
            ],
            "image/png": "[encoded data removed]"
          },
          "metadata": {
            "needs_background": "light"
          }
        },
        {
          "output_type": "display_data",
          "data": {
            "text/plain": [
              "<Figure size 432x288 with 1 Axes>"
            ],
            "image/png": "[encoded data removed]"
          },
          "metadata": {
            "needs_background": "light"
          }
        },
        {
          "output_type": "display_data",
          "data": {
            "text/plain": [
              "<Figure size 432x288 with 1 Axes>"
            ],
            "image/png": "[encoded data removed]"
          },
          "metadata": {
            "needs_background": "light"
          }
        }
      ]
    },
    {
      "cell_type": "markdown",
      "source": [
        "- 대부분의 게임은 NA에서 가장 높은 매출을 올리고 있는 것을 확인할 수 있었다.\n",
        "- 또 나라에 관계 없이 00 게임은 높은 인기를 보이는 것을 확인했다. \n",
        "- 흥미로운 점은 거의 모든 부분의 게임 Sales가 NA가 압도적임에도 Role-Playing game의 경우 JP가 NA를 능가하는 것을 볼 수 있었다."
      ],
      "metadata": {
        "id": "Vd1N6oF9S2Te"
      }
    },
    {
      "cell_type": "code",
      "source": [],
      "metadata": {
        "id": "gb1LxzdNS2Bh"
      },
      "execution_count": null,
      "outputs": []
    }
  ]
}