{
  "nbformat": 4,
  "nbformat_minor": 0,
  "metadata": {
    "colab": {
      "provenance": []
    },
    "kernelspec": {
      "name": "python3",
      "display_name": "Python 3"
    },
    "language_info": {
      "name": "python"
    }
  },
  "cells": [
    {
      "cell_type": "markdown",
      "source": [
        "# **게임 시장 데이터 분석**"
      ],
      "metadata": {
        "id": "mS41SZZgCTws"
      }
    },
    {
      "cell_type": "markdown",
      "source": [
        "# Section1; 데이터 전처리와 데이터 분석 1단계"
      ],
      "metadata": {
        "id": "hpiWcko8CMEf"
      }
    },
    {
      "cell_type": "code",
      "source": [
        "import numpy as np\n",
        "import pandas as pd\n",
        "import matplotlib.pyplot as plt\n",
        "import seaborn as sns"
      ],
      "metadata": {
        "id": "3CDPbFcAqKGm"
      },
      "execution_count": 594,
      "outputs": []
    },
    {
      "cell_type": "code",
      "source": [
        "# df로 데이터프레임 불러오기\n",
        "df = pd.read_csv('vgames2.csv')"
      ],
      "metadata": {
        "id": "xFZtNX0xqMpR"
      },
      "execution_count": 595,
      "outputs": []
    },
    {
      "cell_type": "code",
      "source": [
        "df.info()"
      ],
      "metadata": {
        "colab": {
          "base_uri": "https://localhost:8080/"
        },
        "id": "4xkK2iERqOFr",
        "outputId": "79488629-0b45-4757-b957-4f783b9283bc"
      },
      "execution_count": 596,
      "outputs": [
        {
          "output_type": "stream",
          "name": "stdout",
          "text": [
            "<class 'pandas.core.frame.DataFrame'>\n",
            "RangeIndex: 16598 entries, 0 to 16597\n",
            "Data columns (total 10 columns):\n",
            " #   Column       Non-Null Count  Dtype  \n",
            "---  ------       --------------  -----  \n",
            " 0   Unnamed: 0   16598 non-null  int64  \n",
            " 1   Name         16598 non-null  object \n",
            " 2   Platform     16598 non-null  object \n",
            " 3   Year         16327 non-null  float64\n",
            " 4   Genre        16548 non-null  object \n",
            " 5   Publisher    16540 non-null  object \n",
            " 6   NA_Sales     16598 non-null  object \n",
            " 7   EU_Sales     16598 non-null  object \n",
            " 8   JP_Sales     16598 non-null  object \n",
            " 9   Other_Sales  16598 non-null  object \n",
            "dtypes: float64(1), int64(1), object(8)\n",
            "memory usage: 1.3+ MB\n"
          ]
        }
      ]
    },
    {
      "cell_type": "code",
      "source": [
        "# df 결측치 확인\n",
        "df.isnull().sum()"
      ],
      "metadata": {
        "colab": {
          "base_uri": "https://localhost:8080/"
        },
        "id": "34a4SCB6qRYZ",
        "outputId": "8e487bda-18ed-494c-ab8f-c3f8ada8f1e7"
      },
      "execution_count": 597,
      "outputs": [
        {
          "output_type": "execute_result",
          "data": {
            "text/plain": [
              "Unnamed: 0       0\n",
              "Name             0\n",
              "Platform         0\n",
              "Year           271\n",
              "Genre           50\n",
              "Publisher       58\n",
              "NA_Sales         0\n",
              "EU_Sales         0\n",
              "JP_Sales         0\n",
              "Other_Sales      0\n",
              "dtype: int64"
            ]
          },
          "metadata": {},
          "execution_count": 597
        }
      ]
    },
    {
      "cell_type": "code",
      "source": [
        "# 원본 데이터 보존을 위해 copy 생성\n",
        "df_copy = df"
      ],
      "metadata": {
        "id": "3qRdk2SUqXFz"
      },
      "execution_count": 598,
      "outputs": []
    },
    {
      "cell_type": "code",
      "source": [
        "#결측치 제거\n",
        "df_copy = df_copy.dropna(axis=0)"
      ],
      "metadata": {
        "id": "6kbljOltqVgi"
      },
      "execution_count": 599,
      "outputs": []
    },
    {
      "cell_type": "code",
      "source": [
        "#무의미한 값 삭제\n",
        "df_copy = df_copy.drop('Unnamed: 0', axis = 1)"
      ],
      "metadata": {
        "id": "oQuE4j80GR7w"
      },
      "execution_count": 600,
      "outputs": []
    },
    {
      "cell_type": "code",
      "source": [
        "#결측치 제거 확인\n",
        "df_copy.isnull().sum()"
      ],
      "metadata": {
        "colab": {
          "base_uri": "https://localhost:8080/"
        },
        "id": "FV0Qh5IwqcE-",
        "outputId": "3547f14a-6215-4e96-8631-70fab5997f9d"
      },
      "execution_count": 601,
      "outputs": [
        {
          "output_type": "execute_result",
          "data": {
            "text/plain": [
              "Name           0\n",
              "Platform       0\n",
              "Year           0\n",
              "Genre          0\n",
              "Publisher      0\n",
              "NA_Sales       0\n",
              "EU_Sales       0\n",
              "JP_Sales       0\n",
              "Other_Sales    0\n",
              "dtype: int64"
            ]
          },
          "metadata": {},
          "execution_count": 601
        }
      ]
    },
    {
      "cell_type": "code",
      "source": [
        "# df 중복값 확인\n",
        "df_copy.duplicated().sum()"
      ],
      "metadata": {
        "colab": {
          "base_uri": "https://localhost:8080/"
        },
        "id": "sieCYZ72t6ye",
        "outputId": "2e802545-c84a-465c-a0c9-021f2a7783fb"
      },
      "execution_count": 602,
      "outputs": [
        {
          "output_type": "execute_result",
          "data": {
            "text/plain": [
              "0"
            ]
          },
          "metadata": {},
          "execution_count": 602
        }
      ]
    },
    {
      "cell_type": "code",
      "source": [
        "#df_copy의 형태 보기\n",
        "df_copy.info()"
      ],
      "metadata": {
        "colab": {
          "base_uri": "https://localhost:8080/"
        },
        "id": "sKO1J74oqgbZ",
        "outputId": "be43ac06-5780-4a54-a274-e7fbb427530c"
      },
      "execution_count": 603,
      "outputs": [
        {
          "output_type": "stream",
          "name": "stdout",
          "text": [
            "<class 'pandas.core.frame.DataFrame'>\n",
            "Int64Index: 16241 entries, 0 to 16597\n",
            "Data columns (total 9 columns):\n",
            " #   Column       Non-Null Count  Dtype  \n",
            "---  ------       --------------  -----  \n",
            " 0   Name         16241 non-null  object \n",
            " 1   Platform     16241 non-null  object \n",
            " 2   Year         16241 non-null  float64\n",
            " 3   Genre        16241 non-null  object \n",
            " 4   Publisher    16241 non-null  object \n",
            " 5   NA_Sales     16241 non-null  object \n",
            " 6   EU_Sales     16241 non-null  object \n",
            " 7   JP_Sales     16241 non-null  object \n",
            " 8   Other_Sales  16241 non-null  object \n",
            "dtypes: float64(1), object(8)\n",
            "memory usage: 1.2+ MB\n"
          ]
        }
      ]
    },
    {
      "cell_type": "code",
      "source": [
        "# 위의 형태에서 Sales의 값들이 object인 것을 확인할 수 있음.\n",
        "# 추후 계산을 위해 이상치를 찾아 제거하고 float형태로 데이터 타입 변경.\n",
        "# 데이터 타입을 변경해주기 위해 Sales 값에 들어있는 K는 1000을 나눠주고 M값은 공백으로 replace해줌.\n",
        "# 데이터는 M 단위이기 때문에 위와 같은 방식으로 진행."
      ],
      "metadata": {
        "id": "yNu1A9Gsqp0X"
      },
      "execution_count": 604,
      "outputs": []
    },
    {
      "cell_type": "code",
      "source": [
        "def k_m_fix(df):\n",
        "  df_ = df.copy()\n",
        "  for i in df_.columns:\n",
        "    df_[i] = df_[i].map(lambda x: str(float(x.replace(\"K\", \"\")) / 1000) if \"K\" in x else x) # str로 다시 감싸주지 않으니 dtype이 object인 column에서 float은 nan으로 인식되는 듯\n",
        "    df_[i] = df_[i].str.replace(\"M\",\"\")\n",
        "  return df_.astype(float)\n",
        "\n",
        "k_m_fix(df_copy.loc[:,\"NA_Sales\":\"Other_Sales\"])\n",
        "     "
      ],
      "metadata": {
        "colab": {
          "base_uri": "https://localhost:8080/",
          "height": 424
        },
        "id": "u-LgnmhZ_tj3",
        "outputId": "f1f6697f-6714-4e08-c045-2b4e2af5a47b"
      },
      "execution_count": 605,
      "outputs": [
        {
          "output_type": "execute_result",
          "data": {
            "text/plain": [
              "       NA_Sales  EU_Sales  JP_Sales  Other_Sales\n",
              "0          0.04      0.00      0.00         0.00\n",
              "1          0.17      0.00      0.00         0.01\n",
              "2          0.00      0.00      0.02         0.00\n",
              "3          0.04      0.00      0.00         0.00\n",
              "4          0.12      0.09      0.00         0.04\n",
              "...         ...       ...       ...          ...\n",
              "16593      0.15      0.04      0.00         0.01\n",
              "16594      0.01      0.00      0.00         0.00\n",
              "16595      0.44      0.19      0.03         0.13\n",
              "16596      0.05      0.05      0.25         0.03\n",
              "16597      0.00      0.00      0.16         0.01\n",
              "\n",
              "[16241 rows x 4 columns]"
            ],
            "text/html": [
              "\n",
              "  <div id=\"df-5ba062c8-e24d-43f4-bb77-9158a8aa6be3\">\n",
              "    <div class=\"colab-df-container\">\n",
              "      <div>\n",
              "<style scoped>\n",
              "    .dataframe tbody tr th:only-of-type {\n",
              "        vertical-align: middle;\n",
              "    }\n",
              "\n",
              "    .dataframe tbody tr th {\n",
              "        vertical-align: top;\n",
              "    }\n",
              "\n",
              "    .dataframe thead th {\n",
              "        text-align: right;\n",
              "    }\n",
              "</style>\n",
              "<table border=\"1\" class=\"dataframe\">\n",
              "  <thead>\n",
              "    <tr style=\"text-align: right;\">\n",
              "      <th></th>\n",
              "      <th>NA_Sales</th>\n",
              "      <th>EU_Sales</th>\n",
              "      <th>JP_Sales</th>\n",
              "      <th>Other_Sales</th>\n",
              "    </tr>\n",
              "  </thead>\n",
              "  <tbody>\n",
              "    <tr>\n",
              "      <th>0</th>\n",
              "      <td>0.04</td>\n",
              "      <td>0.00</td>\n",
              "      <td>0.00</td>\n",
              "      <td>0.00</td>\n",
              "    </tr>\n",
              "    <tr>\n",
              "      <th>1</th>\n",
              "      <td>0.17</td>\n",
              "      <td>0.00</td>\n",
              "      <td>0.00</td>\n",
              "      <td>0.01</td>\n",
              "    </tr>\n",
              "    <tr>\n",
              "      <th>2</th>\n",
              "      <td>0.00</td>\n",
              "      <td>0.00</td>\n",
              "      <td>0.02</td>\n",
              "      <td>0.00</td>\n",
              "    </tr>\n",
              "    <tr>\n",
              "      <th>3</th>\n",
              "      <td>0.04</td>\n",
              "      <td>0.00</td>\n",
              "      <td>0.00</td>\n",
              "      <td>0.00</td>\n",
              "    </tr>\n",
              "    <tr>\n",
              "      <th>4</th>\n",
              "      <td>0.12</td>\n",
              "      <td>0.09</td>\n",
              "      <td>0.00</td>\n",
              "      <td>0.04</td>\n",
              "    </tr>\n",
              "    <tr>\n",
              "      <th>...</th>\n",
              "      <td>...</td>\n",
              "      <td>...</td>\n",
              "      <td>...</td>\n",
              "      <td>...</td>\n",
              "    </tr>\n",
              "    <tr>\n",
              "      <th>16593</th>\n",
              "      <td>0.15</td>\n",
              "      <td>0.04</td>\n",
              "      <td>0.00</td>\n",
              "      <td>0.01</td>\n",
              "    </tr>\n",
              "    <tr>\n",
              "      <th>16594</th>\n",
              "      <td>0.01</td>\n",
              "      <td>0.00</td>\n",
              "      <td>0.00</td>\n",
              "      <td>0.00</td>\n",
              "    </tr>\n",
              "    <tr>\n",
              "      <th>16595</th>\n",
              "      <td>0.44</td>\n",
              "      <td>0.19</td>\n",
              "      <td>0.03</td>\n",
              "      <td>0.13</td>\n",
              "    </tr>\n",
              "    <tr>\n",
              "      <th>16596</th>\n",
              "      <td>0.05</td>\n",
              "      <td>0.05</td>\n",
              "      <td>0.25</td>\n",
              "      <td>0.03</td>\n",
              "    </tr>\n",
              "    <tr>\n",
              "      <th>16597</th>\n",
              "      <td>0.00</td>\n",
              "      <td>0.00</td>\n",
              "      <td>0.16</td>\n",
              "      <td>0.01</td>\n",
              "    </tr>\n",
              "  </tbody>\n",
              "</table>\n",
              "<p>16241 rows × 4 columns</p>\n",
              "</div>\n",
              "      <button class=\"colab-df-convert\" onclick=\"convertToInteractive('df-5ba062c8-e24d-43f4-bb77-9158a8aa6be3')\"\n",
              "              title=\"Convert this dataframe to an interactive table.\"\n",
              "              style=\"display:none;\">\n",
              "        \n",
              "  <svg xmlns=\"http://www.w3.org/2000/svg\" height=\"24px\"viewBox=\"0 0 24 24\"\n",
              "       width=\"24px\">\n",
              "    <path d=\"M0 0h24v24H0V0z\" fill=\"none\"/>\n",
              "    <path d=\"M18.56 5.44l.94 2.06.94-2.06 2.06-.94-2.06-.94-.94-2.06-.94 2.06-2.06.94zm-11 1L8.5 8.5l.94-2.06 2.06-.94-2.06-.94L8.5 2.5l-.94 2.06-2.06.94zm10 10l.94 2.06.94-2.06 2.06-.94-2.06-.94-.94-2.06-.94 2.06-2.06.94z\"/><path d=\"M17.41 7.96l-1.37-1.37c-.4-.4-.92-.59-1.43-.59-.52 0-1.04.2-1.43.59L10.3 9.45l-7.72 7.72c-.78.78-.78 2.05 0 2.83L4 21.41c.39.39.9.59 1.41.59.51 0 1.02-.2 1.41-.59l7.78-7.78 2.81-2.81c.8-.78.8-2.07 0-2.86zM5.41 20L4 18.59l7.72-7.72 1.47 1.35L5.41 20z\"/>\n",
              "  </svg>\n",
              "      </button>\n",
              "      \n",
              "  <style>\n",
              "    .colab-df-container {\n",
              "      display:flex;\n",
              "      flex-wrap:wrap;\n",
              "      gap: 12px;\n",
              "    }\n",
              "\n",
              "    .colab-df-convert {\n",
              "      background-color: #E8F0FE;\n",
              "      border: none;\n",
              "      border-radius: 50%;\n",
              "      cursor: pointer;\n",
              "      display: none;\n",
              "      fill: #1967D2;\n",
              "      height: 32px;\n",
              "      padding: 0 0 0 0;\n",
              "      width: 32px;\n",
              "    }\n",
              "\n",
              "    .colab-df-convert:hover {\n",
              "      background-color: #E2EBFA;\n",
              "      box-shadow: 0px 1px 2px rgba(60, 64, 67, 0.3), 0px 1px 3px 1px rgba(60, 64, 67, 0.15);\n",
              "      fill: #174EA6;\n",
              "    }\n",
              "\n",
              "    [theme=dark] .colab-df-convert {\n",
              "      background-color: #3B4455;\n",
              "      fill: #D2E3FC;\n",
              "    }\n",
              "\n",
              "    [theme=dark] .colab-df-convert:hover {\n",
              "      background-color: #434B5C;\n",
              "      box-shadow: 0px 1px 3px 1px rgba(0, 0, 0, 0.15);\n",
              "      filter: drop-shadow(0px 1px 2px rgba(0, 0, 0, 0.3));\n",
              "      fill: #FFFFFF;\n",
              "    }\n",
              "  </style>\n",
              "\n",
              "      <script>\n",
              "        const buttonEl =\n",
              "          document.querySelector('#df-5ba062c8-e24d-43f4-bb77-9158a8aa6be3 button.colab-df-convert');\n",
              "        buttonEl.style.display =\n",
              "          google.colab.kernel.accessAllowed ? 'block' : 'none';\n",
              "\n",
              "        async function convertToInteractive(key) {\n",
              "          const element = document.querySelector('#df-5ba062c8-e24d-43f4-bb77-9158a8aa6be3');\n",
              "          const dataTable =\n",
              "            await google.colab.kernel.invokeFunction('convertToInteractive',\n",
              "                                                     [key], {});\n",
              "          if (!dataTable) return;\n",
              "\n",
              "          const docLinkHtml = 'Like what you see? Visit the ' +\n",
              "            '<a target=\"_blank\" href=https://colab.research.google.com/notebooks/data_table.ipynb>data table notebook</a>'\n",
              "            + ' to learn more about interactive tables.';\n",
              "          element.innerHTML = '';\n",
              "          dataTable['output_type'] = 'display_data';\n",
              "          await google.colab.output.renderOutput(dataTable, element);\n",
              "          const docLink = document.createElement('div');\n",
              "          docLink.innerHTML = docLinkHtml;\n",
              "          element.appendChild(docLink);\n",
              "        }\n",
              "      </script>\n",
              "    </div>\n",
              "  </div>\n",
              "  "
            ]
          },
          "metadata": {},
          "execution_count": 605
        }
      ]
    },
    {
      "cell_type": "code",
      "source": [
        "df_copy.loc[:,\"NA_Sales\":\"Other_Sales\"] = k_m_fix(df_copy.loc[:,\"NA_Sales\":\"Other_Sales\"])\n",
        "df_copy.info()"
      ],
      "metadata": {
        "colab": {
          "base_uri": "https://localhost:8080/"
        },
        "id": "fCENU79rHHZM",
        "outputId": "30205771-9117-47f8-df81-f18e4ab019d2"
      },
      "execution_count": 606,
      "outputs": [
        {
          "output_type": "stream",
          "name": "stdout",
          "text": [
            "<class 'pandas.core.frame.DataFrame'>\n",
            "Int64Index: 16241 entries, 0 to 16597\n",
            "Data columns (total 9 columns):\n",
            " #   Column       Non-Null Count  Dtype  \n",
            "---  ------       --------------  -----  \n",
            " 0   Name         16241 non-null  object \n",
            " 1   Platform     16241 non-null  object \n",
            " 2   Year         16241 non-null  float64\n",
            " 3   Genre        16241 non-null  object \n",
            " 4   Publisher    16241 non-null  object \n",
            " 5   NA_Sales     16241 non-null  float64\n",
            " 6   EU_Sales     16241 non-null  float64\n",
            " 7   JP_Sales     16241 non-null  float64\n",
            " 8   Other_Sales  16241 non-null  float64\n",
            "dtypes: float64(5), object(4)\n",
            "memory usage: 1.2+ MB\n"
          ]
        }
      ]
    },
    {
      "cell_type": "code",
      "source": [
        "df_copy['NA_Sales'].astype(float)"
      ],
      "metadata": {
        "colab": {
          "base_uri": "https://localhost:8080/"
        },
        "id": "BPgyapay_8aD",
        "outputId": "2f222c83-40fb-471f-c788-4e74454270db"
      },
      "execution_count": 607,
      "outputs": [
        {
          "output_type": "execute_result",
          "data": {
            "text/plain": [
              "0        0.04\n",
              "1        0.17\n",
              "2        0.00\n",
              "3        0.04\n",
              "4        0.12\n",
              "         ... \n",
              "16593    0.15\n",
              "16594    0.01\n",
              "16595    0.44\n",
              "16596    0.05\n",
              "16597    0.00\n",
              "Name: NA_Sales, Length: 16241, dtype: float64"
            ]
          },
          "metadata": {},
          "execution_count": 607
        }
      ]
    },
    {
      "cell_type": "code",
      "source": [
        "df_copy['EU_Sales'].astype(float)"
      ],
      "metadata": {
        "colab": {
          "base_uri": "https://localhost:8080/"
        },
        "id": "avyilj_3AY_u",
        "outputId": "3ddfdb01-0c2b-41fa-a3d2-b731bffac568"
      },
      "execution_count": 608,
      "outputs": [
        {
          "output_type": "execute_result",
          "data": {
            "text/plain": [
              "0        0.00\n",
              "1        0.00\n",
              "2        0.00\n",
              "3        0.00\n",
              "4        0.09\n",
              "         ... \n",
              "16593    0.04\n",
              "16594    0.00\n",
              "16595    0.19\n",
              "16596    0.05\n",
              "16597    0.00\n",
              "Name: EU_Sales, Length: 16241, dtype: float64"
            ]
          },
          "metadata": {},
          "execution_count": 608
        }
      ]
    },
    {
      "cell_type": "code",
      "source": [
        "df_copy['JP_Sales'].astype(float)"
      ],
      "metadata": {
        "colab": {
          "base_uri": "https://localhost:8080/"
        },
        "id": "FROFE5NLAa_m",
        "outputId": "65348061-f475-4b05-c048-0e2600718525"
      },
      "execution_count": 609,
      "outputs": [
        {
          "output_type": "execute_result",
          "data": {
            "text/plain": [
              "0        0.00\n",
              "1        0.00\n",
              "2        0.02\n",
              "3        0.00\n",
              "4        0.00\n",
              "         ... \n",
              "16593    0.00\n",
              "16594    0.00\n",
              "16595    0.03\n",
              "16596    0.25\n",
              "16597    0.16\n",
              "Name: JP_Sales, Length: 16241, dtype: float64"
            ]
          },
          "metadata": {},
          "execution_count": 609
        }
      ]
    },
    {
      "cell_type": "code",
      "source": [
        "df_copy['Other_Sales'].astype(float)"
      ],
      "metadata": {
        "colab": {
          "base_uri": "https://localhost:8080/"
        },
        "id": "jwv1d1xjAc0l",
        "outputId": "ebd145fe-1435-48b9-db5e-722fa1cae55c"
      },
      "execution_count": 610,
      "outputs": [
        {
          "output_type": "execute_result",
          "data": {
            "text/plain": [
              "0        0.00\n",
              "1        0.01\n",
              "2        0.00\n",
              "3        0.00\n",
              "4        0.04\n",
              "         ... \n",
              "16593    0.01\n",
              "16594    0.00\n",
              "16595    0.13\n",
              "16596    0.03\n",
              "16597    0.01\n",
              "Name: Other_Sales, Length: 16241, dtype: float64"
            ]
          },
          "metadata": {},
          "execution_count": 610
        }
      ]
    },
    {
      "cell_type": "markdown",
      "source": [
        "<여기서부터는 각 장르별 합산을 계산하는 구간입니다>"
      ],
      "metadata": {
        "id": "eB68NVSMPCIB"
      }
    },
    {
      "cell_type": "code",
      "source": [
        "# 장르 데이터의 종류를 살펴보고 이를 통해 각 장르별 지역 합산을 구한다.\n",
        "df_copy['Genre'].unique()"
      ],
      "metadata": {
        "colab": {
          "base_uri": "https://localhost:8080/"
        },
        "id": "ppyz6YkTEb9-",
        "outputId": "365ba9c8-1603-4e56-985d-17568774689f"
      },
      "execution_count": 611,
      "outputs": [
        {
          "output_type": "execute_result",
          "data": {
            "text/plain": [
              "array(['Action', 'Adventure', 'Misc', 'Platform', 'Sports', 'Simulation',\n",
              "       'Racing', 'Role-Playing', 'Puzzle', 'Strategy', 'Fighting',\n",
              "       'Shooter'], dtype=object)"
            ]
          },
          "metadata": {},
          "execution_count": 611
        }
      ]
    },
    {
      "cell_type": "code",
      "source": [
        "genre_action = df_copy[df_copy['Genre']=='Action']"
      ],
      "metadata": {
        "id": "t7vfekjQDraQ"
      },
      "execution_count": 612,
      "outputs": []
    },
    {
      "cell_type": "code",
      "source": [
        "action_NA = genre_action['NA_Sales'].sum()\n",
        "action_EU = genre_action['EU_Sales'].sum()\n",
        "action_JP = genre_action['JP_Sales'].sum()\n",
        "action_OT = genre_action['Other_Sales'].sum()"
      ],
      "metadata": {
        "id": "ixGuieCKEDaq"
      },
      "execution_count": 613,
      "outputs": []
    },
    {
      "cell_type": "code",
      "source": [
        "genre_adventure = df_copy[df_copy['Genre']=='Adventure']"
      ],
      "metadata": {
        "id": "wn0qjiXlMrKm"
      },
      "execution_count": 614,
      "outputs": []
    },
    {
      "cell_type": "code",
      "source": [
        "adventure_NA = genre_adventure['NA_Sales'].sum()\n",
        "adventure_EU = genre_adventure['EU_Sales'].sum()\n",
        "adventure_JP = genre_adventure['JP_Sales'].sum()\n",
        "adventure_OT = genre_adventure['Other_Sales'].sum()"
      ],
      "metadata": {
        "id": "Qvnc8pBOMbkd"
      },
      "execution_count": 615,
      "outputs": []
    },
    {
      "cell_type": "code",
      "source": [
        "genre_misc = df_copy[df_copy['Genre']=='Misc']"
      ],
      "metadata": {
        "id": "UfqR5bA2NT9P"
      },
      "execution_count": 616,
      "outputs": []
    },
    {
      "cell_type": "code",
      "source": [
        "misc_NA = genre_misc['NA_Sales'].sum()\n",
        "misc_EU = genre_misc['EU_Sales'].sum()\n",
        "misc_JP = genre_misc['JP_Sales'].sum()\n",
        "misc_OT = genre_misc['Other_Sales'].sum()"
      ],
      "metadata": {
        "id": "xaXqIyKPEE8f"
      },
      "execution_count": 617,
      "outputs": []
    },
    {
      "cell_type": "code",
      "source": [
        "genre_platform = df_copy[df_copy['Genre']=='Platform']"
      ],
      "metadata": {
        "id": "AxhsKjrkOI9N"
      },
      "execution_count": 618,
      "outputs": []
    },
    {
      "cell_type": "code",
      "source": [
        "platform_NA = genre_platform['NA_Sales'].sum()\n",
        "platform_EU = genre_platform['EU_Sales'].sum()\n",
        "platform_JP = genre_platform['JP_Sales'].sum()\n",
        "platform_OT = genre_platform['Other_Sales'].sum()"
      ],
      "metadata": {
        "id": "tEV1d06JON__"
      },
      "execution_count": 619,
      "outputs": []
    },
    {
      "cell_type": "code",
      "source": [
        "genre_sports = df_copy[df_copy['Genre']=='Sports']"
      ],
      "metadata": {
        "id": "u0iXV620PKMD"
      },
      "execution_count": 620,
      "outputs": []
    },
    {
      "cell_type": "code",
      "source": [
        "sports_NA = genre_sports['NA_Sales'].sum()\n",
        "sports_EU = genre_sports['EU_Sales'].sum()\n",
        "sports_JP = genre_sports['JP_Sales'].sum()\n",
        "sports_OT = genre_sports['Other_Sales'].sum()"
      ],
      "metadata": {
        "id": "K_vt-P5APPe4"
      },
      "execution_count": 621,
      "outputs": []
    },
    {
      "cell_type": "code",
      "source": [
        "genre_simulation = df_copy[df_copy['Genre']=='Simulation']"
      ],
      "metadata": {
        "id": "otqtXLJRPKKF"
      },
      "execution_count": 622,
      "outputs": []
    },
    {
      "cell_type": "code",
      "source": [
        "simulation_NA = genre_simulation['NA_Sales'].sum()\n",
        "simulation_EU = genre_simulation['EU_Sales'].sum()\n",
        "simulation_JP = genre_simulation['JP_Sales'].sum()\n",
        "simulation_OT = genre_simulation['Other_Sales'].sum()"
      ],
      "metadata": {
        "id": "e_tub4x7PKHy"
      },
      "execution_count": 623,
      "outputs": []
    },
    {
      "cell_type": "code",
      "source": [
        "genre_racing = df_copy[df_copy['Genre']=='Racing']"
      ],
      "metadata": {
        "id": "n1i6IB0xRVz_"
      },
      "execution_count": 624,
      "outputs": []
    },
    {
      "cell_type": "code",
      "source": [
        "racing_NA = genre_racing['NA_Sales'].sum()\n",
        "racing_EU = genre_racing['EU_Sales'].sum()\n",
        "racing_JP = genre_racing['JP_Sales'].sum()\n",
        "racing_OT = genre_racing['Other_Sales'].sum()"
      ],
      "metadata": {
        "id": "dicH62igRVx8"
      },
      "execution_count": 625,
      "outputs": []
    },
    {
      "cell_type": "code",
      "source": [
        "genre_role_playing = df_copy[df_copy['Genre']=='Role-Playing']"
      ],
      "metadata": {
        "id": "4aXsikuAPKFj"
      },
      "execution_count": 626,
      "outputs": []
    },
    {
      "cell_type": "code",
      "source": [
        "role_playing_NA = genre_role_playing['NA_Sales'].sum()\n",
        "role_playing_EU = genre_role_playing['EU_Sales'].sum()\n",
        "role_playing_JP = genre_role_playing['JP_Sales'].sum()\n",
        "role_playing_OT = genre_role_playing['Other_Sales'].sum()"
      ],
      "metadata": {
        "id": "k-2wLeWCSDjQ"
      },
      "execution_count": 627,
      "outputs": []
    },
    {
      "cell_type": "code",
      "source": [
        "genre_puzzle = df_copy[df_copy['Genre']=='Puzzle']"
      ],
      "metadata": {
        "id": "PzbW0td2SDhP"
      },
      "execution_count": 628,
      "outputs": []
    },
    {
      "cell_type": "code",
      "source": [
        "puzzle_NA = genre_puzzle['NA_Sales'].sum()\n",
        "puzzle_EU = genre_puzzle['EU_Sales'].sum()\n",
        "puzzle_JP = genre_puzzle['JP_Sales'].sum()\n",
        "puzzle_OT = genre_puzzle['Other_Sales'].sum()"
      ],
      "metadata": {
        "id": "GbjUrBCOSj5u"
      },
      "execution_count": 629,
      "outputs": []
    },
    {
      "cell_type": "code",
      "source": [
        "genre_strategy = df_copy[df_copy['Genre']=='Strategy']"
      ],
      "metadata": {
        "id": "w1ygqex2Sd-G"
      },
      "execution_count": 630,
      "outputs": []
    },
    {
      "cell_type": "code",
      "source": [
        "strategy_NA = genre_strategy['NA_Sales'].sum()\n",
        "strategy_EU = genre_strategy['EU_Sales'].sum()\n",
        "strategy_JP = genre_strategy['JP_Sales'].sum()\n",
        "strategy_OT = genre_strategy['Other_Sales'].sum()"
      ],
      "metadata": {
        "id": "al9Te020nlIq"
      },
      "execution_count": 631,
      "outputs": []
    },
    {
      "cell_type": "code",
      "source": [
        "genre_fighting = df_copy[df_copy['Genre']=='Fighting']"
      ],
      "metadata": {
        "id": "CT8_jOwbnlDm"
      },
      "execution_count": 632,
      "outputs": []
    },
    {
      "cell_type": "code",
      "source": [
        "fighting_NA = genre_fighting['NA_Sales'].sum()\n",
        "fighting_EU = genre_fighting['EU_Sales'].sum()\n",
        "fighting_JP = genre_fighting['JP_Sales'].sum()\n",
        "fighting_OT = genre_fighting['Other_Sales'].sum()"
      ],
      "metadata": {
        "id": "4l8E98SCn5B4"
      },
      "execution_count": 633,
      "outputs": []
    },
    {
      "cell_type": "code",
      "source": [
        "genre_shooter = df_copy[df_copy['Genre']=='Shooter']"
      ],
      "metadata": {
        "id": "_VIBiCvVn442"
      },
      "execution_count": 634,
      "outputs": []
    },
    {
      "cell_type": "code",
      "source": [
        "shooter_NA = genre_shooter['NA_Sales'].sum()\n",
        "shooter_EU = genre_shooter['EU_Sales'].sum()\n",
        "shooter_JP = genre_shooter['JP_Sales'].sum()\n",
        "shooter_OT = genre_shooter['Other_Sales'].sum()"
      ],
      "metadata": {
        "id": "rtrClhfKnk9d"
      },
      "execution_count": 635,
      "outputs": []
    },
    {
      "cell_type": "markdown",
      "source": [
        "각 데이터를 시각화."
      ],
      "metadata": {
        "id": "KRkwpBk0Pjef"
      }
    },
    {
      "cell_type": "code",
      "source": [
        "#시각화 데이터 모음\n",
        "\n",
        "# Action Genre 시각화 데이터\n",
        "x = np.arange(4)\n",
        "sales = ['NA_Sales', 'EU_Sales', 'JP_Sales', 'Other_Sales']\n",
        "values = [action_NA, action_EU, action_JP, action_OT]\n",
        "\n",
        "plt.title('Sum of Sales: Action')\n",
        "bar = plt.bar(x, values, color = ['red', 'orange', 'skyblue', 'green'])\n",
        "plt.xticks(x, sales)\n",
        "\n",
        "for rect in bar:\n",
        "    height = rect.get_height()\n",
        "    plt.text(rect.get_x() + rect.get_width()/2.0, height, '%.1f' % height, ha='center', va='bottom', size = 10)\n",
        "\n",
        "plt.show()\n",
        "\n",
        "\n",
        "# Adventure Genre 시각화 데이터\n",
        "x = np.arange(4)\n",
        "sales = ['NA_Sales', 'EU_Sales', 'JP_Sales', 'Other_Sales']\n",
        "values = [adventure_NA, adventure_EU, adventure_JP, adventure_OT]\n",
        "\n",
        "plt.title('Sum of Sales: Adventure')\n",
        "bar = plt.bar(x, values, color = ['red', 'orange', 'skyblue', 'green'])\n",
        "plt.xticks(x, sales)\n",
        "\n",
        "for rect in bar:\n",
        "    height = rect.get_height()\n",
        "    plt.text(rect.get_x() + rect.get_width()/2.0, height, '%.1f' % height, ha='center', va='bottom', size = 10)\n",
        "\n",
        "plt.show()\n",
        "\n",
        "\n",
        "# Misc Genre 시각화 데이터\n",
        "x = np.arange(4)\n",
        "sales = ['NA_Sales', 'EU_Sales', 'JP_Sales', 'Other_Sales']\n",
        "values = [misc_NA, misc_EU, misc_JP, misc_OT]\n",
        "\n",
        "plt.title('Sum of Sales: Misc')\n",
        "bar = plt.bar(x, values, color = ['red', 'orange', 'skyblue', 'green'])\n",
        "plt.xticks(x, sales)\n",
        "\n",
        "for rect in bar:\n",
        "    height = rect.get_height()\n",
        "    plt.text(rect.get_x() + rect.get_width()/2.0, height, '%.1f' % height, ha='center', va='bottom', size = 10)\n",
        "\n",
        "plt.show()\n",
        "\n",
        "\n",
        "# Platform Genre 시각화 데이터\n",
        "x = np.arange(4)\n",
        "sales = ['NA_Sales', 'EU_Sales', 'JP_Sales', 'Other_Sales']\n",
        "values = [platform_NA, platform_EU, platform_JP, platform_OT]\n",
        "\n",
        "plt.title('Sum of Sales: Platform')\n",
        "bar = plt.bar(x, values, color = ['red', 'orange', 'skyblue', 'green'])\n",
        "plt.xticks(x, sales)\n",
        "\n",
        "for rect in bar:\n",
        "    height = rect.get_height()\n",
        "    plt.text(rect.get_x() + rect.get_width()/2.0, height, '%.1f' % height, ha='center', va='bottom', size = 10)\n",
        "\n",
        "plt.show()\n",
        "\n",
        "\n",
        "# Sports Genre 시각화 데이터\n",
        "x = np.arange(4)\n",
        "sales = ['NA_Sales', 'EU_Sales', 'JP_Sales', 'Other_Sales']\n",
        "values = [sports_NA, sports_EU, sports_JP, sports_OT]\n",
        "\n",
        "plt.title('Sum of Sales: Sports')\n",
        "bar = plt.bar(x, values, color = ['red', 'orange', 'skyblue', 'green'])\n",
        "plt.xticks(x, sales)\n",
        "\n",
        "for rect in bar:\n",
        "    height = rect.get_height()\n",
        "    plt.text(rect.get_x() + rect.get_width()/2.0, height, '%.1f' % height, ha='center', va='bottom', size = 10)\n",
        "\n",
        "plt.show()\n",
        "\n",
        "\n",
        "# Simulation Genre 시각화 데이터\n",
        "x = np.arange(4)\n",
        "sales = ['NA_Sales', 'EU_Sales', 'JP_Sales', 'Other_Sales']\n",
        "values = [simulation_NA, simulation_EU, simulation_JP, simulation_OT]\n",
        "\n",
        "plt.title('Sum of Sales: Simulation')\n",
        "bar = plt.bar(x, values, color = ['red', 'orange', 'skyblue', 'green'])\n",
        "plt.xticks(x, sales)\n",
        "\n",
        "for rect in bar:\n",
        "    height = rect.get_height()\n",
        "    plt.text(rect.get_x() + rect.get_width()/2.0, height, '%.1f' % height, ha='center', va='bottom', size = 10)\n",
        "\n",
        "plt.show()\n",
        "\n",
        "\n",
        "# Racing Genre 시각화 데이터\n",
        "x = np.arange(4)\n",
        "sales = ['NA_Sales', 'EU_Sales', 'JP_Sales', 'Other_Sales']\n",
        "values = [racing_NA, racing_EU, racing_JP, racing_OT]\n",
        "\n",
        "plt.title('Sum of Sales: Racing')\n",
        "bar = plt.bar(x, values, color = ['red', 'orange', 'skyblue', 'green'])\n",
        "plt.xticks(x, sales)\n",
        "\n",
        "for rect in bar:\n",
        "    height = rect.get_height()\n",
        "    plt.text(rect.get_x() + rect.get_width()/2.0, height, '%.1f' % height, ha='center', va='bottom', size = 10)\n",
        "\n",
        "plt.show()\n",
        "\n",
        "\n",
        "# Role-Playing Genre 시각화 데이터\n",
        "x = np.arange(4)\n",
        "sales = ['NA_Sales', 'EU_Sales', 'JP_Sales', 'Other_Sales']\n",
        "values = [role_playing_NA, role_playing_EU, role_playing_JP, role_playing_OT]\n",
        "\n",
        "plt.title('Sum of Sales: Role-Playing')\n",
        "bar = plt.bar(x, values, color = ['red', 'orange', 'skyblue', 'green'])\n",
        "plt.xticks(x, sales)\n",
        "\n",
        "for rect in bar:\n",
        "    height = rect.get_height()\n",
        "    plt.text(rect.get_x() + rect.get_width()/2.0, height, '%.1f' % height, ha='center', va='bottom', size = 10)\n",
        "\n",
        "plt.show()\n",
        "\n",
        "\n",
        "# Puzzle Genre 시각화 데이터\n",
        "x = np.arange(4)\n",
        "sales = ['NA_Sales', 'EU_Sales', 'JP_Sales', 'Other_Sales']\n",
        "values = [puzzle_NA, puzzle_EU, puzzle_JP, puzzle_OT]\n",
        "\n",
        "plt.title('Sum of Sales: Puzzle')\n",
        "bar = plt.bar(x, values, color = ['red', 'orange', 'skyblue', 'green'])\n",
        "plt.xticks(x, sales)\n",
        "\n",
        "for rect in bar:\n",
        "    height = rect.get_height()\n",
        "    plt.text(rect.get_x() + rect.get_width()/2.0, height, '%.1f' % height, ha='center', va='bottom', size = 10)\n",
        "\n",
        "plt.show()\n",
        "\n",
        "\n",
        "# Strategy Genre 시각화 데이터\n",
        "x = np.arange(4)\n",
        "sales = ['NA_Sales', 'EU_Sales', 'JP_Sales', 'Other_Sales']\n",
        "values = [strategy_NA, strategy_EU, strategy_JP, strategy_OT]\n",
        "\n",
        "plt.title('Sum of Sales: Strategy')\n",
        "bar = plt.bar(x, values, color = ['red', 'orange', 'skyblue', 'green'])\n",
        "plt.xticks(x, sales)\n",
        "\n",
        "for rect in bar:\n",
        "    height = rect.get_height()\n",
        "    plt.text(rect.get_x() + rect.get_width()/2.0, height, '%.1f' % height, ha='center', va='bottom', size = 10)\n",
        "\n",
        "plt.show()\n",
        "\n",
        "\n",
        "# Fighting Genre 시각화 데이터\n",
        "x = np.arange(4)\n",
        "sales = ['NA_Sales', 'EU_Sales', 'JP_Sales', 'Other_Sales']\n",
        "values = [fighting_NA, fighting_EU, fighting_JP, fighting_OT]\n",
        "\n",
        "plt.title('Sum of Sales: Fighting')\n",
        "bar = plt.bar(x, values, color = ['red', 'orange', 'skyblue', 'green'])\n",
        "plt.xticks(x, sales)\n",
        "\n",
        "for rect in bar:\n",
        "    height = rect.get_height()\n",
        "    plt.text(rect.get_x() + rect.get_width()/2.0, height, '%.1f' % height, ha='center', va='bottom', size = 10)\n",
        "\n",
        "plt.show()\n",
        "\n",
        "\n",
        "# Shooter Genre 시각화 데이터\n",
        "x = np.arange(4)\n",
        "sales = ['NA_Sales', 'EU_Sales', 'JP_Sales', 'Other_Sales']\n",
        "values = [shooter_NA, shooter_EU, shooter_JP, shooter_OT]\n",
        "\n",
        "plt.title('Sum of Sales: Shooter')\n",
        "bar = plt.bar(x, values, color = ['red', 'orange', 'skyblue', 'green'])\n",
        "plt.xticks(x, sales)\n",
        "\n",
        "for rect in bar:\n",
        "    height = rect.get_height()\n",
        "    plt.text(rect.get_x() + rect.get_width()/2.0, height, '%.1f' % height, ha='center', va='bottom', size = 10)\n",
        "\n",
        "plt.show()"
      ],
      "metadata": {
        "id": "c7SCf-pCqcAe",
        "colab": {
          "base_uri": "https://localhost:8080/",
          "height": 1000
        },
        "outputId": "8ff86f91-d8c6-4484-d9d2-724809f3c5b2"
      },
      "execution_count": 636,
      "outputs": [
        {
          "output_type": "display_data",
          "data": {
            "text/plain": [
              "<Figure size 432x288 with 1 Axes>"
            ],
            "image/png": "[encoded data removed]"
          },
          "metadata": {
            "needs_background": "light"
          }
        },
        {
          "output_type": "display_data",
          "data": {
            "text/plain": [
              "<Figure size 432x288 with 1 Axes>"
            ],
            "image/png": "[encoded data removed]"
          },
          "metadata": {
            "needs_background": "light"
          }
        },
        {
          "output_type": "display_data",
          "data": {
            "text/plain": [
              "<Figure size 432x288 with 1 Axes>"
            ],
            "image/png": "[encoded data removed]"
          },
          "metadata": {
            "needs_background": "light"
          }
        },
        {
          "output_type": "display_data",
          "data": {
            "text/plain": [
              "<Figure size 432x288 with 1 Axes>"
            ],
            "image/png": "[encoded data removed]"
          },
          "metadata": {
            "needs_background": "light"
          }
        },
        {
          "output_type": "display_data",
          "data": {
            "text/plain": [
              "<Figure size 432x288 with 1 Axes>"
            ],
            "image/png": "[encoded data removed]"
          },
          "metadata": {
            "needs_background": "light"
          }
        },
        {
          "output_type": "display_data",
          "data": {
            "text/plain": [
              "<Figure size 432x288 with 1 Axes>"
            ],
            "image/png": "[encoded data removed]"
          },
          "metadata": {
            "needs_background": "light"
          }
        },
        {
          "output_type": "display_data",
          "data": {
            "text/plain": [
              "<Figure size 432x288 with 1 Axes>"
            ],
            "image/png": "[encoded data removed]"
          },
          "metadata": {
            "needs_background": "light"
          }
        },
        {
          "output_type": "display_data",
          "data": {
            "text/plain": [
              "<Figure size 432x288 with 1 Axes>"
            ],
            "image/png": "[encoded data removed]"
          },
          "metadata": {
            "needs_background": "light"
          }
        },
        {
          "output_type": "display_data",
          "data": {
            "text/plain": [
              "<Figure size 432x288 with 1 Axes>"
            ],
            "image/png": "[encoded data removed]"
          },
          "metadata": {
            "needs_background": "light"
          }
        },
        {
          "output_type": "display_data",
          "data": {
            "text/plain": [
              "<Figure size 432x288 with 1 Axes>"
            ],
            "image/png": "[encoded data removed]"
          },
          "metadata": {
            "needs_background": "light"
          }
        },
        {
          "output_type": "display_data",
          "data": {
            "text/plain": [
              "<Figure size 432x288 with 1 Axes>"
            ],
            "image/png": "[encoded data removed]"
          },
          "metadata": {
            "needs_background": "light"
          }
        },
        {
          "output_type": "display_data",
          "data": {
            "text/plain": [
              "<Figure size 432x288 with 1 Axes>"
            ],
            "image/png": "[encoded data removed]"
          },
          "metadata": {
            "needs_background": "light"
          }
        }
      ]
    },
    {
      "cell_type": "markdown",
      "source": [
        "지역별 선호 게임"
      ],
      "metadata": {
        "id": "G1bFdmbPoiX6"
      }
    },
    {
      "cell_type": "markdown",
      "source": [
        "- NA지역 게임 선호도 조사"
      ],
      "metadata": {
        "id": "05hEqhjPrD_E"
      }
    },
    {
      "cell_type": "code",
      "source": [
        "x = np.arange(12)\n",
        "sales = ['action_NA', 'adventure_NA', 'misc_NA', 'platform_NA', 'sports_NA', 'simulation_NA', 'racing_NA', 'role_playing_NA', 'puzzle_NA', 'strategy_NA', 'fighting_NA', 'shooter_NA']\n",
        "values = [action_NA, adventure_NA, misc_NA, platform_NA, sports_NA, simulation_NA, racing_NA, role_playing_NA, puzzle_NA, strategy_NA, fighting_NA, shooter_NA]\n",
        "\n",
        "plt.figure(figsize=(20,10))\n",
        "plt.title('NA_Genre', fontsize=20)\n",
        "bar = plt.bar(x, values)\n",
        "plt.xticks(x, sales)\n",
        "\n",
        "for rect in bar:\n",
        "    height = rect.get_height()\n",
        "    plt.text(rect.get_x() + rect.get_width()/2.0, height, '%.1f' % height, ha='center', va='bottom', size = 20)\n",
        "\n",
        "plt.show()"
      ],
      "metadata": {
        "colab": {
          "base_uri": "https://localhost:8080/",
          "height": 439
        },
        "id": "tPB41Z-oohzK",
        "outputId": "60940ee0-03af-427e-851e-6327dd3c5090"
      },
      "execution_count": 637,
      "outputs": [
        {
          "output_type": "display_data",
          "data": {
            "text/plain": [
              "<Figure size 1440x720 with 1 Axes>"
            ],
            "image/png": "[encoded data removed]"
          },
          "metadata": {
            "needs_background": "light"
          }
        }
      ]
    },
    {
      "cell_type": "markdown",
      "source": [
        "- EU지역 게임 선호도 조사"
      ],
      "metadata": {
        "id": "bCVcoglErQTa"
      }
    },
    {
      "cell_type": "code",
      "source": [
        "x = np.arange(12)\n",
        "sales = ['action_EU', 'adventure_EU', 'misc_EU', 'platform_EU', 'sports_EU', 'simulation_EU', 'racing_EU', 'role_playing_EU', 'puzzle_EU', 'strategy_EU', 'fighting_EU', 'shooter_EU']\n",
        "values = [action_EU, adventure_EU, misc_EU, platform_EU, sports_EU, simulation_EU, racing_EU, role_playing_EU, puzzle_EU, strategy_EU, fighting_EU, shooter_EU]\n",
        "\n",
        "plt.figure(figsize=(20,8))\n",
        "plt.title('EU_Genre', fontsize=20)\n",
        "bar = plt.bar(x, values)\n",
        "plt.xticks(x, sales)\n",
        "\n",
        "for rect in bar:\n",
        "    height = rect.get_height()\n",
        "    plt.text(rect.get_x() + rect.get_width()/2.0, height, '%.1f' % height, ha='center', va='bottom', size = 20)\n",
        "\n",
        "plt.show()"
      ],
      "metadata": {
        "colab": {
          "base_uri": "https://localhost:8080/",
          "height": 362
        },
        "id": "WlrvxcbmrPyB",
        "outputId": "14de78c3-8f7d-4344-a06b-895e7c9b1978"
      },
      "execution_count": 638,
      "outputs": [
        {
          "output_type": "display_data",
          "data": {
            "text/plain": [
              "<Figure size 1440x576 with 1 Axes>"
            ],
            "image/png": "[encoded data removed]"
          },
          "metadata": {
            "needs_background": "light"
          }
        }
      ]
    },
    {
      "cell_type": "markdown",
      "source": [
        "- JP지역 게임 선호도 조사"
      ],
      "metadata": {
        "id": "nkXU3_rTsH8e"
      }
    },
    {
      "cell_type": "code",
      "source": [
        "x = np.arange(12)\n",
        "sales = ['action_JP', 'adventure_JP', 'misc_JP', 'platform_JP', 'sports_JP', 'simulation_JP', 'racing_JP', 'role_playing_JP', 'puzzle_JP', 'strategy_JP', 'fighting_JP', 'shooter_JP']\n",
        "values = [action_JP, adventure_JP, misc_JP, platform_JP, sports_JP, simulation_JP, racing_JP, role_playing_JP, puzzle_JP, strategy_JP, fighting_JP, shooter_JP]\n",
        "\n",
        "plt.figure(figsize=(20,8))\n",
        "plt.title('JP_Genre', fontsize=20)\n",
        "bar = plt.bar(x, values)\n",
        "plt.xticks(x, sales)\n",
        "\n",
        "for rect in bar:\n",
        "    height = rect.get_height()\n",
        "    plt.text(rect.get_x() + rect.get_width()/2.0, height, '%.1f' % height, ha='center', va='bottom', size = 20)\n",
        "\n",
        "plt.show()"
      ],
      "metadata": {
        "colab": {
          "base_uri": "https://localhost:8080/",
          "height": 362
        },
        "id": "V-FPhC5qrPrP",
        "outputId": "84058181-4926-44d6-f480-064ea2c4299a"
      },
      "execution_count": 639,
      "outputs": [
        {
          "output_type": "display_data",
          "data": {
            "text/plain": [
              "<Figure size 1440x576 with 1 Axes>"
            ],
            "image/png": "[encoded data removed]"
          },
          "metadata": {
            "needs_background": "light"
          }
        }
      ]
    },
    {
      "cell_type": "markdown",
      "source": [
        "- 기타 지역 게임 선호도 조사"
      ],
      "metadata": {
        "id": "T50Y3DT7sb_y"
      }
    },
    {
      "cell_type": "code",
      "source": [
        "x = np.arange(12)\n",
        "sales = ['action_OT', 'adventure_OT', 'misc_OT', 'platform_OT', 'sports_OT', 'simulation_OT', 'racing_OT', 'role_playing_OT', 'puzzle_OT', 'strategy_OT', 'fighting_OT', 'shooter_OT']\n",
        "values = [action_OT, adventure_OT, misc_OT, platform_OT, sports_OT, simulation_OT, racing_OT, role_playing_OT, puzzle_OT, strategy_OT, fighting_OT, shooter_OT]\n",
        "\n",
        "plt.figure(figsize=(20,8))\n",
        "plt.title('OT_Genre', fontsize=20)\n",
        "bar = plt.bar(x, values)\n",
        "plt.xticks(x, sales)\n",
        "\n",
        "for rect in bar:\n",
        "    height = rect.get_height()\n",
        "    plt.text(rect.get_x() + rect.get_width()/2.0, height, '%.1f' % height, ha='center', va='bottom', size = 20)\n",
        "\n",
        "plt.show()"
      ],
      "metadata": {
        "colab": {
          "base_uri": "https://localhost:8080/",
          "height": 362
        },
        "id": "JSuIpOoWrPlx",
        "outputId": "5cf3a1f1-c02b-44b3-cf14-4f03ed317db9"
      },
      "execution_count": 640,
      "outputs": [
        {
          "output_type": "display_data",
          "data": {
            "text/plain": [
              "<Figure size 1440x576 with 1 Axes>"
            ],
            "image/png": "[encoded data removed]"
          },
          "metadata": {
            "needs_background": "light"
          }
        }
      ]
    },
    {
      "cell_type": "markdown",
      "source": [
        "**<지역 구분>**\n",
        "- 지역은 북아메리카, 유럽 연합, 일본, 그리고 기타 지역으로 나누었다.\n",
        "- 지역별 선호 게임 장르는 각각\n",
        "\n",
        "북아메리카: Action, Sports, Shooter \n",
        "\n",
        "유럽 연합: Action, Sports, Shooter\n",
        "\n",
        "일본: Role-Playing, Action, Sports\n",
        "\n",
        "기타 지역: Action, Sports, Shooter\n",
        "\n",
        "순서로 Big3를 차지했다"
      ],
      "metadata": {
        "id": "PU0mDTBA_RYk"
      }
    },
    {
      "cell_type": "markdown",
      "source": [
        "**<왜 Action Genre 일까?>**\n",
        "\n",
        "4개 지역 중 3개 지역에서 1등을 차지한 Action Game.\n",
        "\n",
        "근거 예측\n",
        "- 매우 폭넓은 장르를 포함하는 분류\n",
        "- 단말의 보급률이 높음(스마트폰이 playstation에 비해 보급률이 높다)"
      ],
      "metadata": {
        "id": "tVWhivgPAnjQ"
      }
    },
    {
      "cell_type": "markdown",
      "source": [
        "**<그래프를 통해 알 수 있는 점>**\n",
        "\n",
        "1. 우선 NA 지역의 게임 판매량이 가장 많은 것을 확인할 수 있었다. 물론 인구수의 차이겠지만 이는 게임 수출 영역에서 NA층을 타겟으로 삼아야한다는 큰 증거로 삼을 수 있다.\n",
        "2. 역시 인구수의 영향을 받아 두 번째로 판매량이 많은 지역은 EU지역으로 볼 수 있다. 다만 EU국가 전체의 인구 수가 4억 5000만인 것을 고려했을 때 인구수가 1억2400만인 JP지역에게 게임 점유율이 거의 비슷하거나 JP의 게임 Sales가 훨씬 넘어서는 영역이 있는 것으로 미루어 보았을 때 일본 영역의 마케팅 역시 확장 되어야한다고 생각한다.\n",
        "\n"
      ],
      "metadata": {
        "id": "vj8QMt0Ns3vc"
      }
    },
    {
      "cell_type": "markdown",
      "source": [
        "**<관전 포인트>**\n",
        "\n",
        "- 대부분의 게임은 NA에서 가장 높은 매출을 올리고 있는 것을 확인할 수 있었다.\n",
        "- 또 나라에 관계 없이 Action, Sports, Shooter 게임은 높은 인기를 보이는 것을 확인했다. 단순히 Well made game이 많아서 발생하는 일일까?\n",
        "- 흥미로운 점은 거의 모든 부분의 게임 Sales가 NA가 압도적임에도 Role-Playing game의 경우 JP가 NA를 능가하는 것을 볼 수 있었다."
      ],
      "metadata": {
        "id": "Vd1N6oF9S2Te"
      }
    },
    {
      "cell_type": "markdown",
      "source": [
        "# Section2; 연도별 차이"
      ],
      "metadata": {
        "id": "iETpXmhJCDPa"
      }
    },
    {
      "cell_type": "code",
      "source": [
        "df_copy['Year'] = df_copy['Year'].dropna()"
      ],
      "metadata": {
        "id": "gb1LxzdNS2Bh"
      },
      "execution_count": 641,
      "outputs": []
    },
    {
      "cell_type": "code",
      "source": [
        "df_copy['Year'].astype(int)"
      ],
      "metadata": {
        "id": "LW6l8bYvDG1J",
        "outputId": "668a4776-1be8-46d2-8996-110375c91157",
        "colab": {
          "base_uri": "https://localhost:8080/"
        }
      },
      "execution_count": 642,
      "outputs": [
        {
          "output_type": "execute_result",
          "data": {
            "text/plain": [
              "0        2008\n",
              "1        2009\n",
              "2        2010\n",
              "3        2010\n",
              "4        2010\n",
              "         ... \n",
              "16593    2006\n",
              "16594    2005\n",
              "16595    2015\n",
              "16596    2013\n",
              "16597    1996\n",
              "Name: Year, Length: 16241, dtype: int64"
            ]
          },
          "metadata": {},
          "execution_count": 642
        }
      ]
    },
    {
      "cell_type": "code",
      "source": [
        "#이상치 제거를 위한 박스 플롯 확인\n",
        "plt.figure(figsize = (12,8))\n",
        "sns.boxplot(data= df_copy['Year'], color = 'red')\n",
        "plt.show()"
      ],
      "metadata": {
        "id": "eq8vyhgdDbDr",
        "outputId": "4e98eea2-fa39-4146-a990-e94c24219090",
        "colab": {
          "base_uri": "https://localhost:8080/",
          "height": 483
        }
      },
      "execution_count": 643,
      "outputs": [
        {
          "output_type": "display_data",
          "data": {
            "text/plain": [
              "<Figure size 864x576 with 1 Axes>"
            ],
            "image/png": "[encoded data removed]"
          },
          "metadata": {
            "needs_background": "light"
          }
        }
      ]
    },
    {
      "cell_type": "code",
      "source": [
        "genre_action_year = genre_action['Year']\n",
        "lower = genre_action_year[genre_action_year < 30]\n",
        "upper = genre_action_year[(genre_action_year >= 30) * (genre_action_year < 1900)] # truth value of series is ambiguous"
      ],
      "metadata": {
        "id": "cManVyHxIjtp"
      },
      "execution_count": 644,
      "outputs": []
    },
    {
      "cell_type": "code",
      "source": [
        "lower.value_counts()"
      ],
      "metadata": {
        "id": "-SI4TejXIzs_",
        "outputId": "f86583d1-1a2f-45dd-a619-8fd89558e233",
        "colab": {
          "base_uri": "https://localhost:8080/"
        }
      },
      "execution_count": 645,
      "outputs": [
        {
          "output_type": "execute_result",
          "data": {
            "text/plain": [
              "15.0    3\n",
              "6.0     2\n",
              "8.0     1\n",
              "9.0     1\n",
              "5.0     1\n",
              "16.0    1\n",
              "11.0    1\n",
              "4.0     1\n",
              "Name: Year, dtype: int64"
            ]
          },
          "metadata": {},
          "execution_count": 645
        }
      ]
    },
    {
      "cell_type": "code",
      "source": [
        "upper.value_counts()"
      ],
      "metadata": {
        "id": "n6zUNPY7I22P",
        "outputId": "5649c305-05d6-48a9-fdc8-c91b450f8238",
        "colab": {
          "base_uri": "https://localhost:8080/"
        }
      },
      "execution_count": 646,
      "outputs": [
        {
          "output_type": "execute_result",
          "data": {
            "text/plain": [
              "97.0    2\n",
              "95.0    1\n",
              "Name: Year, dtype: int64"
            ]
          },
          "metadata": {},
          "execution_count": 646
        }
      ]
    },
    {
      "cell_type": "code",
      "source": [
        "upper = upper.map(lambda x: x + 1900)\n",
        "lower = lower.map(lambda x: x + 2000)"
      ],
      "metadata": {
        "id": "j-KCuKQrJHJy"
      },
      "execution_count": 647,
      "outputs": []
    },
    {
      "cell_type": "code",
      "source": [
        "genre_action_year.loc[upper.index] = upper"
      ],
      "metadata": {
        "id": "7ihFaJAWJPgb",
        "outputId": "b5584f0a-8be2-4e5f-9e74-714a97909e43",
        "colab": {
          "base_uri": "https://localhost:8080/"
        }
      },
      "execution_count": 648,
      "outputs": [
        {
          "output_type": "stream",
          "name": "stderr",
          "text": [
            "/usr/local/lib/python3.9/dist-packages/pandas/core/indexing.py:1732: SettingWithCopyWarning: \n",
            "A value is trying to be set on a copy of a slice from a DataFrame\n",
            "\n",
            "See the caveats in the documentation: https://pandas.pydata.org/pandas-docs/stable/user_guide/indexing.html#returning-a-view-versus-a-copy\n",
            "  self._setitem_single_block(indexer, value, name)\n"
          ]
        }
      ]
    },
    {
      "cell_type": "code",
      "source": [
        "genre_action_year.loc[lower.index] = lower"
      ],
      "metadata": {
        "id": "UVDaBRzEJVlP"
      },
      "execution_count": 649,
      "outputs": []
    },
    {
      "cell_type": "code",
      "source": [
        "# 이상치 제거 완료됨을 확인 했음\n",
        "genre_action_year.astype(float)"
      ],
      "metadata": {
        "id": "Q2j0HU74JrXT",
        "outputId": "47eb070c-d0b7-4cc4-b033-6c78656db5be",
        "colab": {
          "base_uri": "https://localhost:8080/"
        }
      },
      "execution_count": 650,
      "outputs": [
        {
          "output_type": "execute_result",
          "data": {
            "text/plain": [
              "0        2008.0\n",
              "1        2009.0\n",
              "7        2005.0\n",
              "9        2011.0\n",
              "15       2009.0\n",
              "          ...  \n",
              "16575    2015.0\n",
              "16581    2014.0\n",
              "16583    2009.0\n",
              "16594    2005.0\n",
              "16596    2013.0\n",
              "Name: Year, Length: 3240, dtype: float64"
            ]
          },
          "metadata": {},
          "execution_count": 650
        }
      ]
    },
    {
      "cell_type": "code",
      "source": [
        "genre_action_year = genre_action_year.to_frame()"
      ],
      "metadata": {
        "id": "ua1hQ-COXAha"
      },
      "execution_count": 665,
      "outputs": []
    },
    {
      "cell_type": "code",
      "source": [
        "genre_action_year = genre_action_year.sort_index()"
      ],
      "metadata": {
        "id": "gKJFqqmFXExn"
      },
      "execution_count": 666,
      "outputs": []
    },
    {
      "cell_type": "code",
      "source": [
        "genre_action_year"
      ],
      "metadata": {
        "id": "BMUCjkzzXNxf",
        "outputId": "ba9ea111-12fa-4754-d1bf-8a20ee321734",
        "colab": {
          "base_uri": "https://localhost:8080/",
          "height": 654
        }
      },
      "execution_count": 672,
      "outputs": [
        {
          "output_type": "execute_result",
          "data": {
            "text/plain": [
              "         Year\n",
              "0      2008.0\n",
              "1      2009.0\n",
              "7      2005.0\n",
              "9      2011.0\n",
              "15     2009.0\n",
              "...       ...\n",
              "16575  2015.0\n",
              "16581  2014.0\n",
              "16583  2009.0\n",
              "16594  2005.0\n",
              "16596  2013.0\n",
              "\n",
              "[3240 rows x 1 columns]"
            ],
            "text/html": [
              "\n",
              "  <div id=\"df-c76929e9-677c-4fed-956d-b653b6f760f8\">\n",
              "    <div class=\"colab-df-container\">\n",
              "      <div>\n",
              "<style scoped>\n",
              "    .dataframe tbody tr th:only-of-type {\n",
              "        vertical-align: middle;\n",
              "    }\n",
              "\n",
              "    .dataframe tbody tr th {\n",
              "        vertical-align: top;\n",
              "    }\n",
              "\n",
              "    .dataframe thead th {\n",
              "        text-align: right;\n",
              "    }\n",
              "</style>\n",
              "<table border=\"1\" class=\"dataframe\">\n",
              "  <thead>\n",
              "    <tr style=\"text-align: right;\">\n",
              "      <th></th>\n",
              "      <th>Year</th>\n",
              "    </tr>\n",
              "  </thead>\n",
              "  <tbody>\n",
              "    <tr>\n",
              "      <th>0</th>\n",
              "      <td>2008.0</td>\n",
              "    </tr>\n",
              "    <tr>\n",
              "      <th>1</th>\n",
              "      <td>2009.0</td>\n",
              "    </tr>\n",
              "    <tr>\n",
              "      <th>7</th>\n",
              "      <td>2005.0</td>\n",
              "    </tr>\n",
              "    <tr>\n",
              "      <th>9</th>\n",
              "      <td>2011.0</td>\n",
              "    </tr>\n",
              "    <tr>\n",
              "      <th>15</th>\n",
              "      <td>2009.0</td>\n",
              "    </tr>\n",
              "    <tr>\n",
              "      <th>...</th>\n",
              "      <td>...</td>\n",
              "    </tr>\n",
              "    <tr>\n",
              "      <th>16575</th>\n",
              "      <td>2015.0</td>\n",
              "    </tr>\n",
              "    <tr>\n",
              "      <th>16581</th>\n",
              "      <td>2014.0</td>\n",
              "    </tr>\n",
              "    <tr>\n",
              "      <th>16583</th>\n",
              "      <td>2009.0</td>\n",
              "    </tr>\n",
              "    <tr>\n",
              "      <th>16594</th>\n",
              "      <td>2005.0</td>\n",
              "    </tr>\n",
              "    <tr>\n",
              "      <th>16596</th>\n",
              "      <td>2013.0</td>\n",
              "    </tr>\n",
              "  </tbody>\n",
              "</table>\n",
              "<p>3240 rows × 1 columns</p>\n",
              "</div>\n",
              "      <button class=\"colab-df-convert\" onclick=\"convertToInteractive('df-c76929e9-677c-4fed-956d-b653b6f760f8')\"\n",
              "              title=\"Convert this dataframe to an interactive table.\"\n",
              "              style=\"display:none;\">\n",
              "        \n",
              "  <svg xmlns=\"http://www.w3.org/2000/svg\" height=\"24px\"viewBox=\"0 0 24 24\"\n",
              "       width=\"24px\">\n",
              "    <path d=\"M0 0h24v24H0V0z\" fill=\"none\"/>\n",
              "    <path d=\"M18.56 5.44l.94 2.06.94-2.06 2.06-.94-2.06-.94-.94-2.06-.94 2.06-2.06.94zm-11 1L8.5 8.5l.94-2.06 2.06-.94-2.06-.94L8.5 2.5l-.94 2.06-2.06.94zm10 10l.94 2.06.94-2.06 2.06-.94-2.06-.94-.94-2.06-.94 2.06-2.06.94z\"/><path d=\"M17.41 7.96l-1.37-1.37c-.4-.4-.92-.59-1.43-.59-.52 0-1.04.2-1.43.59L10.3 9.45l-7.72 7.72c-.78.78-.78 2.05 0 2.83L4 21.41c.39.39.9.59 1.41.59.51 0 1.02-.2 1.41-.59l7.78-7.78 2.81-2.81c.8-.78.8-2.07 0-2.86zM5.41 20L4 18.59l7.72-7.72 1.47 1.35L5.41 20z\"/>\n",
              "  </svg>\n",
              "      </button>\n",
              "      \n",
              "  <style>\n",
              "    .colab-df-container {\n",
              "      display:flex;\n",
              "      flex-wrap:wrap;\n",
              "      gap: 12px;\n",
              "    }\n",
              "\n",
              "    .colab-df-convert {\n",
              "      background-color: #E8F0FE;\n",
              "      border: none;\n",
              "      border-radius: 50%;\n",
              "      cursor: pointer;\n",
              "      display: none;\n",
              "      fill: #1967D2;\n",
              "      height: 32px;\n",
              "      padding: 0 0 0 0;\n",
              "      width: 32px;\n",
              "    }\n",
              "\n",
              "    .colab-df-convert:hover {\n",
              "      background-color: #E2EBFA;\n",
              "      box-shadow: 0px 1px 2px rgba(60, 64, 67, 0.3), 0px 1px 3px 1px rgba(60, 64, 67, 0.15);\n",
              "      fill: #174EA6;\n",
              "    }\n",
              "\n",
              "    [theme=dark] .colab-df-convert {\n",
              "      background-color: #3B4455;\n",
              "      fill: #D2E3FC;\n",
              "    }\n",
              "\n",
              "    [theme=dark] .colab-df-convert:hover {\n",
              "      background-color: #434B5C;\n",
              "      box-shadow: 0px 1px 3px 1px rgba(0, 0, 0, 0.15);\n",
              "      filter: drop-shadow(0px 1px 2px rgba(0, 0, 0, 0.3));\n",
              "      fill: #FFFFFF;\n",
              "    }\n",
              "  </style>\n",
              "\n",
              "      <script>\n",
              "        const buttonEl =\n",
              "          document.querySelector('#df-c76929e9-677c-4fed-956d-b653b6f760f8 button.colab-df-convert');\n",
              "        buttonEl.style.display =\n",
              "          google.colab.kernel.accessAllowed ? 'block' : 'none';\n",
              "\n",
              "        async function convertToInteractive(key) {\n",
              "          const element = document.querySelector('#df-c76929e9-677c-4fed-956d-b653b6f760f8');\n",
              "          const dataTable =\n",
              "            await google.colab.kernel.invokeFunction('convertToInteractive',\n",
              "                                                     [key], {});\n",
              "          if (!dataTable) return;\n",
              "\n",
              "          const docLinkHtml = 'Like what you see? Visit the ' +\n",
              "            '<a target=\"_blank\" href=https://colab.research.google.com/notebooks/data_table.ipynb>data table notebook</a>'\n",
              "            + ' to learn more about interactive tables.';\n",
              "          element.innerHTML = '';\n",
              "          dataTable['output_type'] = 'display_data';\n",
              "          await google.colab.output.renderOutput(dataTable, element);\n",
              "          const docLink = document.createElement('div');\n",
              "          docLink.innerHTML = docLinkHtml;\n",
              "          element.appendChild(docLink);\n",
              "        }\n",
              "      </script>\n",
              "    </div>\n",
              "  </div>\n",
              "  "
            ]
          },
          "metadata": {},
          "execution_count": 672
        }
      ]
    },
    {
      "cell_type": "code",
      "source": [
        "genre_action_num = genre_action_year.value_counts()"
      ],
      "metadata": {
        "id": "yD1v99pJS9ku"
      },
      "execution_count": 667,
      "outputs": []
    },
    {
      "cell_type": "code",
      "source": [
        "genre_action_num = genre_action_num.to_frame()"
      ],
      "metadata": {
        "id": "mKGPRpB-UV_Z"
      },
      "execution_count": 668,
      "outputs": []
    },
    {
      "cell_type": "code",
      "source": [
        "genre_action_num = genre_action_num.sort_index()"
      ],
      "metadata": {
        "id": "gP525IYgWj9F"
      },
      "execution_count": 669,
      "outputs": []
    },
    {
      "cell_type": "code",
      "source": [
        "genre_action_num"
      ],
      "metadata": {
        "id": "159Kntr_XRFi",
        "outputId": "4b0b706b-2f44-43ed-f5d5-ce6973e8fa67",
        "colab": {
          "base_uri": "https://localhost:8080/",
          "height": 654
        }
      },
      "execution_count": 673,
      "outputs": [
        {
          "output_type": "execute_result",
          "data": {
            "text/plain": [
              "          0\n",
              "Year       \n",
              "1980.0    1\n",
              "1981.0   25\n",
              "1982.0   18\n",
              "1983.0    7\n",
              "1984.0    1\n",
              "1985.0    2\n",
              "1986.0    6\n",
              "1987.0    2\n",
              "1988.0    2\n",
              "1989.0    2\n",
              "1990.0    3\n",
              "1991.0    5\n",
              "1992.0    1\n",
              "1993.0    6\n",
              "1994.0    4\n",
              "1995.0    8\n",
              "1996.0   20\n",
              "1997.0   31\n",
              "1998.0   44\n",
              "1999.0   39\n",
              "2000.0   43\n",
              "2001.0   66\n",
              "2002.0  125\n",
              "2003.0  144\n",
              "2004.0  125\n",
              "2005.0  192\n",
              "2006.0  184\n",
              "2007.0  210\n",
              "2008.0  219\n",
              "2009.0  271\n",
              "2010.0  226\n",
              "2011.0  239\n",
              "2012.0  263\n",
              "2013.0  148\n",
              "2014.0  186\n",
              "2015.0  253\n",
              "2016.0  118\n",
              "2017.0    1"
            ],
            "text/html": [
              "\n",
              "  <div id=\"df-83854a6b-8397-4f77-96c2-f5c43741c168\">\n",
              "    <div class=\"colab-df-container\">\n",
              "      <div>\n",
              "<style scoped>\n",
              "    .dataframe tbody tr th:only-of-type {\n",
              "        vertical-align: middle;\n",
              "    }\n",
              "\n",
              "    .dataframe tbody tr th {\n",
              "        vertical-align: top;\n",
              "    }\n",
              "\n",
              "    .dataframe thead th {\n",
              "        text-align: right;\n",
              "    }\n",
              "</style>\n",
              "<table border=\"1\" class=\"dataframe\">\n",
              "  <thead>\n",
              "    <tr style=\"text-align: right;\">\n",
              "      <th></th>\n",
              "      <th>0</th>\n",
              "    </tr>\n",
              "    <tr>\n",
              "      <th>Year</th>\n",
              "      <th></th>\n",
              "    </tr>\n",
              "  </thead>\n",
              "  <tbody>\n",
              "    <tr>\n",
              "      <th>1980.0</th>\n",
              "      <td>1</td>\n",
              "    </tr>\n",
              "    <tr>\n",
              "      <th>1981.0</th>\n",
              "      <td>25</td>\n",
              "    </tr>\n",
              "    <tr>\n",
              "      <th>1982.0</th>\n",
              "      <td>18</td>\n",
              "    </tr>\n",
              "    <tr>\n",
              "      <th>1983.0</th>\n",
              "      <td>7</td>\n",
              "    </tr>\n",
              "    <tr>\n",
              "      <th>1984.0</th>\n",
              "      <td>1</td>\n",
              "    </tr>\n",
              "    <tr>\n",
              "      <th>1985.0</th>\n",
              "      <td>2</td>\n",
              "    </tr>\n",
              "    <tr>\n",
              "      <th>1986.0</th>\n",
              "      <td>6</td>\n",
              "    </tr>\n",
              "    <tr>\n",
              "      <th>1987.0</th>\n",
              "      <td>2</td>\n",
              "    </tr>\n",
              "    <tr>\n",
              "      <th>1988.0</th>\n",
              "      <td>2</td>\n",
              "    </tr>\n",
              "    <tr>\n",
              "      <th>1989.0</th>\n",
              "      <td>2</td>\n",
              "    </tr>\n",
              "    <tr>\n",
              "      <th>1990.0</th>\n",
              "      <td>3</td>\n",
              "    </tr>\n",
              "    <tr>\n",
              "      <th>1991.0</th>\n",
              "      <td>5</td>\n",
              "    </tr>\n",
              "    <tr>\n",
              "      <th>1992.0</th>\n",
              "      <td>1</td>\n",
              "    </tr>\n",
              "    <tr>\n",
              "      <th>1993.0</th>\n",
              "      <td>6</td>\n",
              "    </tr>\n",
              "    <tr>\n",
              "      <th>1994.0</th>\n",
              "      <td>4</td>\n",
              "    </tr>\n",
              "    <tr>\n",
              "      <th>1995.0</th>\n",
              "      <td>8</td>\n",
              "    </tr>\n",
              "    <tr>\n",
              "      <th>1996.0</th>\n",
              "      <td>20</td>\n",
              "    </tr>\n",
              "    <tr>\n",
              "      <th>1997.0</th>\n",
              "      <td>31</td>\n",
              "    </tr>\n",
              "    <tr>\n",
              "      <th>1998.0</th>\n",
              "      <td>44</td>\n",
              "    </tr>\n",
              "    <tr>\n",
              "      <th>1999.0</th>\n",
              "      <td>39</td>\n",
              "    </tr>\n",
              "    <tr>\n",
              "      <th>2000.0</th>\n",
              "      <td>43</td>\n",
              "    </tr>\n",
              "    <tr>\n",
              "      <th>2001.0</th>\n",
              "      <td>66</td>\n",
              "    </tr>\n",
              "    <tr>\n",
              "      <th>2002.0</th>\n",
              "      <td>125</td>\n",
              "    </tr>\n",
              "    <tr>\n",
              "      <th>2003.0</th>\n",
              "      <td>144</td>\n",
              "    </tr>\n",
              "    <tr>\n",
              "      <th>2004.0</th>\n",
              "      <td>125</td>\n",
              "    </tr>\n",
              "    <tr>\n",
              "      <th>2005.0</th>\n",
              "      <td>192</td>\n",
              "    </tr>\n",
              "    <tr>\n",
              "      <th>2006.0</th>\n",
              "      <td>184</td>\n",
              "    </tr>\n",
              "    <tr>\n",
              "      <th>2007.0</th>\n",
              "      <td>210</td>\n",
              "    </tr>\n",
              "    <tr>\n",
              "      <th>2008.0</th>\n",
              "      <td>219</td>\n",
              "    </tr>\n",
              "    <tr>\n",
              "      <th>2009.0</th>\n",
              "      <td>271</td>\n",
              "    </tr>\n",
              "    <tr>\n",
              "      <th>2010.0</th>\n",
              "      <td>226</td>\n",
              "    </tr>\n",
              "    <tr>\n",
              "      <th>2011.0</th>\n",
              "      <td>239</td>\n",
              "    </tr>\n",
              "    <tr>\n",
              "      <th>2012.0</th>\n",
              "      <td>263</td>\n",
              "    </tr>\n",
              "    <tr>\n",
              "      <th>2013.0</th>\n",
              "      <td>148</td>\n",
              "    </tr>\n",
              "    <tr>\n",
              "      <th>2014.0</th>\n",
              "      <td>186</td>\n",
              "    </tr>\n",
              "    <tr>\n",
              "      <th>2015.0</th>\n",
              "      <td>253</td>\n",
              "    </tr>\n",
              "    <tr>\n",
              "      <th>2016.0</th>\n",
              "      <td>118</td>\n",
              "    </tr>\n",
              "    <tr>\n",
              "      <th>2017.0</th>\n",
              "      <td>1</td>\n",
              "    </tr>\n",
              "  </tbody>\n",
              "</table>\n",
              "</div>\n",
              "      <button class=\"colab-df-convert\" onclick=\"convertToInteractive('df-83854a6b-8397-4f77-96c2-f5c43741c168')\"\n",
              "              title=\"Convert this dataframe to an interactive table.\"\n",
              "              style=\"display:none;\">\n",
              "        \n",
              "  <svg xmlns=\"http://www.w3.org/2000/svg\" height=\"24px\"viewBox=\"0 0 24 24\"\n",
              "       width=\"24px\">\n",
              "    <path d=\"M0 0h24v24H0V0z\" fill=\"none\"/>\n",
              "    <path d=\"M18.56 5.44l.94 2.06.94-2.06 2.06-.94-2.06-.94-.94-2.06-.94 2.06-2.06.94zm-11 1L8.5 8.5l.94-2.06 2.06-.94-2.06-.94L8.5 2.5l-.94 2.06-2.06.94zm10 10l.94 2.06.94-2.06 2.06-.94-2.06-.94-.94-2.06-.94 2.06-2.06.94z\"/><path d=\"M17.41 7.96l-1.37-1.37c-.4-.4-.92-.59-1.43-.59-.52 0-1.04.2-1.43.59L10.3 9.45l-7.72 7.72c-.78.78-.78 2.05 0 2.83L4 21.41c.39.39.9.59 1.41.59.51 0 1.02-.2 1.41-.59l7.78-7.78 2.81-2.81c.8-.78.8-2.07 0-2.86zM5.41 20L4 18.59l7.72-7.72 1.47 1.35L5.41 20z\"/>\n",
              "  </svg>\n",
              "      </button>\n",
              "      \n",
              "  <style>\n",
              "    .colab-df-container {\n",
              "      display:flex;\n",
              "      flex-wrap:wrap;\n",
              "      gap: 12px;\n",
              "    }\n",
              "\n",
              "    .colab-df-convert {\n",
              "      background-color: #E8F0FE;\n",
              "      border: none;\n",
              "      border-radius: 50%;\n",
              "      cursor: pointer;\n",
              "      display: none;\n",
              "      fill: #1967D2;\n",
              "      height: 32px;\n",
              "      padding: 0 0 0 0;\n",
              "      width: 32px;\n",
              "    }\n",
              "\n",
              "    .colab-df-convert:hover {\n",
              "      background-color: #E2EBFA;\n",
              "      box-shadow: 0px 1px 2px rgba(60, 64, 67, 0.3), 0px 1px 3px 1px rgba(60, 64, 67, 0.15);\n",
              "      fill: #174EA6;\n",
              "    }\n",
              "\n",
              "    [theme=dark] .colab-df-convert {\n",
              "      background-color: #3B4455;\n",
              "      fill: #D2E3FC;\n",
              "    }\n",
              "\n",
              "    [theme=dark] .colab-df-convert:hover {\n",
              "      background-color: #434B5C;\n",
              "      box-shadow: 0px 1px 3px 1px rgba(0, 0, 0, 0.15);\n",
              "      filter: drop-shadow(0px 1px 2px rgba(0, 0, 0, 0.3));\n",
              "      fill: #FFFFFF;\n",
              "    }\n",
              "  </style>\n",
              "\n",
              "      <script>\n",
              "        const buttonEl =\n",
              "          document.querySelector('#df-83854a6b-8397-4f77-96c2-f5c43741c168 button.colab-df-convert');\n",
              "        buttonEl.style.display =\n",
              "          google.colab.kernel.accessAllowed ? 'block' : 'none';\n",
              "\n",
              "        async function convertToInteractive(key) {\n",
              "          const element = document.querySelector('#df-83854a6b-8397-4f77-96c2-f5c43741c168');\n",
              "          const dataTable =\n",
              "            await google.colab.kernel.invokeFunction('convertToInteractive',\n",
              "                                                     [key], {});\n",
              "          if (!dataTable) return;\n",
              "\n",
              "          const docLinkHtml = 'Like what you see? Visit the ' +\n",
              "            '<a target=\"_blank\" href=https://colab.research.google.com/notebooks/data_table.ipynb>data table notebook</a>'\n",
              "            + ' to learn more about interactive tables.';\n",
              "          element.innerHTML = '';\n",
              "          dataTable['output_type'] = 'display_data';\n",
              "          await google.colab.output.renderOutput(dataTable, element);\n",
              "          const docLink = document.createElement('div');\n",
              "          docLink.innerHTML = docLinkHtml;\n",
              "          element.appendChild(docLink);\n",
              "        }\n",
              "      </script>\n",
              "    </div>\n",
              "  </div>\n",
              "  "
            ]
          },
          "metadata": {},
          "execution_count": 673
        }
      ]
    },
    {
      "cell_type": "code",
      "source": [
        "plt.plot(genre_action_year, genre_action_year) \n",
        "# genre_action_year의 row 개수가 3240개 genre_action_num의 row 개수가 38개여서 결합이 안 된다는 거지?\n",
        "# genre_action_year는 genre가 action인 것만 genre_action['Year]에서 빼온 값이다.\n",
        "# genre_action_num은 genre가 action인 것의 개수를 계산해놓은 것이다. 각각 몇개인지"
      ],
      "metadata": {
        "id": "FDUXuPelVulw",
        "outputId": "73a009fe-3bbb-487c-b656-83ad8efb7e31",
        "colab": {
          "base_uri": "https://localhost:8080/",
          "height": 283
        }
      },
      "execution_count": 674,
      "outputs": [
        {
          "output_type": "execute_result",
          "data": {
            "text/plain": [
              "[<matplotlib.lines.Line2D at 0x7f4af469a370>]"
            ]
          },
          "metadata": {},
          "execution_count": 674
        },
        {
          "output_type": "display_data",
          "data": {
            "text/plain": [
              "<Figure size 432x288 with 1 Axes>"
            ],
            "image/png": "[encoded data removed]"
          },
          "metadata": {
            "needs_background": "light"
          }
        }
      ]
    },
    {
      "cell_type": "code",
      "source": [
        "plt.title('연도별 게임의 트렌드 Action')\n",
        "plt.xlabel('연도')\n",
        "plt.ylabel('판매량(개수)')\n",
        "\n",
        "xtick_range = np.cumsum([0, 31, 28, 31, 30, 31, 30, 31, 31, 30, 31, 30])\n",
        "xtick_label = genre_action_year.loc[xtick_range]\n",
        "plt.xticks(xtick_range, xtick_label)\n",
        "\n",
        "plt.plot(df['날짜'], df['상품1'], label='상품1', color='b')\n",
        "plt.plot(df['날짜'], df['상품2'], label='상품2', color='g')\n",
        "plt.plot(df['날짜'], df['상품3'], label='상품3', color='r')\n",
        "\n",
        "plt.legend()"
      ],
      "metadata": {
        "id": "pY-42_srU1Vl"
      },
      "execution_count": null,
      "outputs": []
    },
    {
      "cell_type": "code",
      "source": [
        "# Strategy Genre 시각화 데이터\n",
        "x = np.arange()\n",
        "sales = genre_action_year\n",
        "values = genre_action_num\n",
        "\n",
        "plt.title('Sum of Sales: Strategy')\n",
        "\n",
        "for rect in bar:\n",
        "    height = rect.get_height()\n",
        "    plt.text(rect.get_x() + rect.get_width()/2.0, height, '%.1f' % height, ha='center', va='bottom', size = 10)\n",
        "\n",
        "plt.show()"
      ],
      "metadata": {
        "id": "LadYFEalTQN4"
      },
      "execution_count": null,
      "outputs": []
    },
    {
      "cell_type": "code",
      "source": [
        "x_values = genre_action_year\n",
        "y_values = genre_action_num\n",
        "plt.plot(x_values, y_values)\n",
        "\n",
        "plt.show()"
      ],
      "metadata": {
        "id": "4y0Iv4iNOeNX"
      },
      "execution_count": null,
      "outputs": []
    },
    {
      "cell_type": "code",
      "source": [],
      "metadata": {
        "id": "_vdbyEbrOeLW"
      },
      "execution_count": null,
      "outputs": []
    },
    {
      "cell_type": "code",
      "source": [],
      "metadata": {
        "id": "iOveeCEBOeJQ"
      },
      "execution_count": null,
      "outputs": []
    },
    {
      "cell_type": "code",
      "source": [],
      "metadata": {
        "id": "2s8cOPV0Od_v"
      },
      "execution_count": null,
      "outputs": []
    },
    {
      "cell_type": "code",
      "source": [
        "x = np.arange(39)\n",
        "sales = ['action_OT', 'adventure_OT', 'misc_OT', 'platform_OT', 'sports_OT', 'simulation_OT', 'racing_OT', 'role_playing_OT', 'puzzle_OT', 'strategy_OT', 'fighting_OT', 'shooter_OT']\n",
        "values = [action_OT, adventure_OT, misc_OT, platform_OT, sports_OT, simulation_OT, racing_OT, role_playing_OT, puzzle_OT, strategy_OT, fighting_OT, shooter_OT]\n",
        "\n",
        "plt.figure(figsize=(20,8))\n",
        "plt.title('OT_Genre', fontsize=20)\n",
        "bar = plt.bar(x, values)\n",
        "plt.xticks(x, sales)\n",
        "\n",
        "for rect in bar:\n",
        "    height = rect.get_height()\n",
        "    plt.text(rect.get_x() + rect.get_width()/2.0, height, '%.1f' % height, ha='center', va='bottom', size = 20)\n",
        "\n",
        "plt.show()"
      ],
      "metadata": {
        "id": "oVV-VUSXKLN3"
      },
      "execution_count": null,
      "outputs": []
    }
  ]
}